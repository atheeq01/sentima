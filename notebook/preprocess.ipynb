{
 "cells": [
  {
   "metadata": {},
   "cell_type": "markdown",
   "source": "## Imports",
   "id": "56ad28908ae371d5"
  },
  {
   "cell_type": "code",
   "id": "initial_id",
   "metadata": {
    "collapsed": true,
    "ExecuteTime": {
     "end_time": "2025-07-07T17:54:02.243574Z",
     "start_time": "2025-07-07T17:54:02.240199Z"
    }
   },
   "source": [
    "import re\n",
    "import os\n",
    "import pandas as pd\n",
    "import numpy as np\n",
    "from joblib import Parallel, delayed\n",
    "import spacy\n",
    "import string\n",
    "import nltk\n",
    "from langdetect import detect\n",
    "\n",
    "from tqdm import tqdm"
   ],
   "outputs": [],
   "execution_count": 42
  },
  {
   "metadata": {},
   "cell_type": "markdown",
   "source": "## Set up environment",
   "id": "b7873da1ceebdcc3"
  },
  {
   "metadata": {
    "ExecuteTime": {
     "end_time": "2025-07-07T17:54:02.754447Z",
     "start_time": "2025-07-07T17:54:02.751599Z"
    }
   },
   "cell_type": "code",
   "source": [
    "current_path = os.getcwd()\n",
    "print(f\"Current path: {current_path}\")"
   ],
   "id": "4d401ef2f79e2423",
   "outputs": [
    {
     "name": "stdout",
     "output_type": "stream",
     "text": [
      "Current path: /home/breezy-s-pc/Study/senti with bert/notebook\n"
     ]
    }
   ],
   "execution_count": 43
  },
  {
   "metadata": {},
   "cell_type": "markdown",
   "source": "## Configure NLTK",
   "id": "dce73355315aeb37"
  },
  {
   "metadata": {
    "ExecuteTime": {
     "end_time": "2025-07-07T17:54:03.131814Z",
     "start_time": "2025-07-07T17:54:03.109585Z"
    }
   },
   "cell_type": "code",
   "source": [
    "custom_directory = \"../artifacts\"\n",
    "nltk.download('punkt', download_dir=custom_directory, quiet=True)\n",
    "nltk.download('stopwords', download_dir=custom_directory, quiet=True)\n",
    "nltk.data.path.append(custom_directory)"
   ],
   "id": "7e6adfc8e48f3fb5",
   "outputs": [],
   "execution_count": 44
  },
  {
   "metadata": {},
   "cell_type": "markdown",
   "source": "## Load data",
   "id": "6846228a816f084"
  },
  {
   "metadata": {
    "ExecuteTime": {
     "end_time": "2025-07-07T17:54:04.476828Z",
     "start_time": "2025-07-07T17:54:03.452112Z"
    }
   },
   "cell_type": "code",
   "source": [
    "df = pd.read_csv(\"../artifacts/allReviews.csv\", usecols=[\"Comment\", \"Rating\"])\n",
    "print(f\"Initial shape: {df.shape}\")"
   ],
   "id": "597bd5d0f60ae3f8",
   "outputs": [
    {
     "name": "stdout",
     "output_type": "stream",
     "text": [
      "Initial shape: (903304, 2)\n"
     ]
    }
   ],
   "execution_count": 45
  },
  {
   "metadata": {
    "ExecuteTime": {
     "end_time": "2025-07-07T17:54:04.492286Z",
     "start_time": "2025-07-07T17:54:04.487864Z"
    }
   },
   "cell_type": "code",
   "source": "df.head()",
   "id": "d4c0ac4c43e785e5",
   "outputs": [
    {
     "data": {
      "text/plain": [
       "                                             Comment  Rating\n",
       "0  I already have a background in naturopathic me...     4.0\n",
       "1  Very good course and it suits for everyone who...     5.0\n",
       "2  A good introduction to herbal medicine. Not ve...     5.0\n",
       "3  I'm glad to be a part of this course. As it ch...     5.0\n",
       "4  Although I have already learned a lot regardin...     5.0"
      ],
      "text/html": [
       "<div>\n",
       "<style scoped>\n",
       "    .dataframe tbody tr th:only-of-type {\n",
       "        vertical-align: middle;\n",
       "    }\n",
       "\n",
       "    .dataframe tbody tr th {\n",
       "        vertical-align: top;\n",
       "    }\n",
       "\n",
       "    .dataframe thead th {\n",
       "        text-align: right;\n",
       "    }\n",
       "</style>\n",
       "<table border=\"1\" class=\"dataframe\">\n",
       "  <thead>\n",
       "    <tr style=\"text-align: right;\">\n",
       "      <th></th>\n",
       "      <th>Comment</th>\n",
       "      <th>Rating</th>\n",
       "    </tr>\n",
       "  </thead>\n",
       "  <tbody>\n",
       "    <tr>\n",
       "      <th>0</th>\n",
       "      <td>I already have a background in naturopathic me...</td>\n",
       "      <td>4.0</td>\n",
       "    </tr>\n",
       "    <tr>\n",
       "      <th>1</th>\n",
       "      <td>Very good course and it suits for everyone who...</td>\n",
       "      <td>5.0</td>\n",
       "    </tr>\n",
       "    <tr>\n",
       "      <th>2</th>\n",
       "      <td>A good introduction to herbal medicine. Not ve...</td>\n",
       "      <td>5.0</td>\n",
       "    </tr>\n",
       "    <tr>\n",
       "      <th>3</th>\n",
       "      <td>I'm glad to be a part of this course. As it ch...</td>\n",
       "      <td>5.0</td>\n",
       "    </tr>\n",
       "    <tr>\n",
       "      <th>4</th>\n",
       "      <td>Although I have already learned a lot regardin...</td>\n",
       "      <td>5.0</td>\n",
       "    </tr>\n",
       "  </tbody>\n",
       "</table>\n",
       "</div>"
      ]
     },
     "execution_count": 46,
     "metadata": {},
     "output_type": "execute_result"
    }
   ],
   "execution_count": 46
  },
  {
   "metadata": {},
   "cell_type": "markdown",
   "source": "## remove Null values",
   "id": "af73713dc58af3e"
  },
  {
   "metadata": {
    "ExecuteTime": {
     "end_time": "2025-07-07T17:54:04.790943Z",
     "start_time": "2025-07-07T17:54:04.558058Z"
    }
   },
   "cell_type": "code",
   "source": [
    "print(f\"Initial shape: {df.shape}\")\n",
    "# remove rows with Null values\n",
    "df = df.dropna(subset=[\"Comment\", \"Rating\"])\n",
    "# remove empty strings\n",
    "df = df[df[\"Comment\"].str.strip().astype(bool)]\n",
    "print(f\"Shape after null removal: {df.shape}\")\n"
   ],
   "id": "bcb1fb7834b79ccc",
   "outputs": [
    {
     "name": "stdout",
     "output_type": "stream",
     "text": [
      "Initial shape: (903304, 2)\n",
      "Shape after null removal: (903144, 2)\n"
     ]
    }
   ],
   "execution_count": 47
  },
  {
   "metadata": {},
   "cell_type": "markdown",
   "source": "## English detection",
   "id": "dbdb2a12ebaecdb6"
  },
  {
   "metadata": {
    "ExecuteTime": {
     "end_time": "2025-07-07T17:54:04.828376Z",
     "start_time": "2025-07-07T17:54:04.826701Z"
    }
   },
   "cell_type": "code",
   "source": [
    "def detect_english(text):\n",
    "    try:\n",
    "        return detect(text) == 'en'\n",
    "    except:\n",
    "        return False"
   ],
   "id": "bff799aa5be8be4c",
   "outputs": [],
   "execution_count": 48
  },
  {
   "metadata": {},
   "cell_type": "markdown",
   "source": "## Parallel processing with chunking",
   "id": "e6fb0fc50f37fa30"
  },
  {
   "metadata": {
    "ExecuteTime": {
     "end_time": "2025-07-07T17:54:04.868926Z",
     "start_time": "2025-07-07T17:54:04.866033Z"
    }
   },
   "cell_type": "code",
   "source": [
    "def parallel_process(func, series, n_jobs=-1, chunk_size=1000):\n",
    "    chunks = [series[i:i + chunk_size] for i in range(0, len(series), chunk_size)]\n",
    "    results = Parallel(n_jobs=n_jobs)(\n",
    "        delayed(func)(chunk) for chunk in chunks\n",
    "    )\n",
    "    return np.concatenate(results)"
   ],
   "id": "b586b68538e56151",
   "outputs": [],
   "execution_count": 49
  },
  {
   "metadata": {},
   "cell_type": "markdown",
   "source": "## Detect English in chunks",
   "id": "502810a3e9877b05"
  },
  {
   "metadata": {
    "ExecuteTime": {
     "end_time": "2025-07-07T17:59:59.345623Z",
     "start_time": "2025-07-07T17:54:05.036178Z"
    }
   },
   "cell_type": "code",
   "source": [
    "english_mask = parallel_process(\n",
    "    lambda chunk: chunk.apply(detect_english).values,\n",
    "    df['Comment'],\n",
    "    n_jobs=-1\n",
    ")\n",
    "df = df[english_mask].reset_index(drop=True)\n",
    "print(f\"English reviews count: {len(df)}\")"
   ],
   "id": "f9fdac96a6a27f63",
   "outputs": [
    {
     "name": "stdout",
     "output_type": "stream",
     "text": [
      "English reviews count: 746876\n"
     ]
    }
   ],
   "execution_count": 50
  },
  {
   "metadata": {},
   "cell_type": "markdown",
   "source": "## Text cleaning",
   "id": "d1945f65008413a7"
  },
  {
   "metadata": {
    "ExecuteTime": {
     "end_time": "2025-07-07T18:00:25.678754Z",
     "start_time": "2025-07-07T18:00:24.303087Z"
    }
   },
   "cell_type": "code",
   "source": [
    "def clean_text(text):\n",
    "    text = text.lower().strip()\n",
    "    text = re.sub(r\"http\\S+|www\\S+|https\\S+\", '', text, flags=re.MULTILINE)\n",
    "    text = re.sub(f\"[{re.escape(string.punctuation)}]\", '', text)\n",
    "    text = re.sub(r'\\d+', '', text)\n",
    "    return re.sub(r'\\s+', ' ', text)\n",
    "\n",
    "\n",
    "df['cleaned_text'] = parallel_process(\n",
    "    lambda chunk: chunk.apply(clean_text).values,\n",
    "    df['Comment'],\n",
    "    n_jobs=-1\n",
    ")"
   ],
   "id": "2faffb5348edfdbc",
   "outputs": [],
   "execution_count": 52
  },
  {
   "metadata": {},
   "cell_type": "markdown",
   "source": "## SpaCy setup with efficient pipeline",
   "id": "2af4bf8cbca00afc"
  },
  {
   "metadata": {
    "ExecuteTime": {
     "end_time": "2025-07-07T18:00:42.726596Z",
     "start_time": "2025-07-07T18:00:30.300203Z"
    }
   },
   "cell_type": "code",
   "source": "!python -m spacy download en_core_web_sm",
   "id": "c749e761bfb17ba7",
   "outputs": [
    {
     "name": "stdout",
     "output_type": "stream",
     "text": [
      "Collecting en-core-web-sm==3.8.0\r\n",
      "  Downloading https://github.com/explosion/spacy-models/releases/download/en_core_web_sm-3.8.0/en_core_web_sm-3.8.0-py3-none-any.whl (12.8 MB)\r\n",
      "\u001B[2K     \u001B[90m━━━━━━━━━━━━━━━━━━━━━━━━━━━━━━━━━━━━━━━━\u001B[0m \u001B[32m12.8/12.8 MB\u001B[0m \u001B[31m1.8 MB/s\u001B[0m eta \u001B[36m0:00:00\u001B[0ma \u001B[36m0:00:01\u001B[0mm\r\n",
      "\u001B[?25h\u001B[38;5;2m✔ Download and installation successful\u001B[0m\r\n",
      "You can now load the package via spacy.load('en_core_web_sm')\r\n"
     ]
    }
   ],
   "execution_count": 53
  },
  {
   "metadata": {
    "ExecuteTime": {
     "end_time": "2025-07-07T18:00:43.045173Z",
     "start_time": "2025-07-07T18:00:42.737283Z"
    }
   },
   "cell_type": "code",
   "source": [
    "nlp = spacy.load(\"en_core_web_sm\", disable=[\"parser\", \"ner\"])\n",
    "stop_words = nltk.corpus.stopwords.words('english')"
   ],
   "id": "7331fc4cd1c01537",
   "outputs": [],
   "execution_count": 54
  },
  {
   "metadata": {},
   "cell_type": "markdown",
   "source": "## Enhanced sentiment whitelist",
   "id": "f4ac84a5c4e23401"
  },
  {
   "metadata": {
    "ExecuteTime": {
     "end_time": "2025-07-07T18:00:43.058890Z",
     "start_time": "2025-07-07T18:00:43.055790Z"
    }
   },
   "cell_type": "code",
   "source": [
    "SENTIMENT_WHITELIST = {\n",
    "    # Intensifiers\n",
    "    \"absolutely\", \"barely\", \"completely\", \"entirely\", \"exceptionally\", \"extremely\",\n",
    "    \"fully\", \"highly\", \"incredibly\", \"insanely\", \"marginally\", \"moderately\",\n",
    "    \"particularly\", \"partially\", \"quite\", \"really\", \"remarkably\", \"slightly\",\n",
    "    \"somewhat\", \"terribly\", \"thoroughly\", \"totally\", \"too\", \"utterly\", \"very\",\n",
    "\n",
    "    # Negations (standard + variants without apostrophes)\n",
    "    \"ain't\", \"aint\", \"aren't\", \"arent\", \"can't\", \"cant\", \"cannot\", \"couldn't\", \"couldnt\",\n",
    "    \"didn't\", \"didnt\", \"doesn't\", \"doesnt\", \"don't\", \"dont\", \"hadn't\", \"hadnt\",\n",
    "    \"hasn't\", \"hasnt\", \"haven't\", \"havent\", \"isn't\", \"isnt\", \"mightn't\", \"mightnt\",\n",
    "    \"mustn't\", \"mustnt\", \"neither\", \"never\", \"no\", \"nobody\", \"none\", \"nor\", \"not\",\n",
    "    \"nothing\", \"nowhere\", \"shouldn't\", \"shouldnt\", \"wasn't\", \"wasnt\", \"weren't\",\n",
    "    \"werent\", \"wouldn't\", \"wouldnt\", \"wont\", \"won't\",\n",
    "\n",
    "    # Contrast/Concession\n",
    "    \"although\", \"but\", \"despite\", \"except\", \"however\", \"though\", \"yet\"\n",
    "}\n"
   ],
   "id": "c87db52b8b0d005",
   "outputs": [],
   "execution_count": 55
  },
  {
   "metadata": {},
   "cell_type": "markdown",
   "source": "## lemmatization with batch processing",
   "id": "3d85d9bd3943654c"
  },
  {
   "metadata": {
    "ExecuteTime": {
     "end_time": "2025-07-07T18:05:55.633983Z",
     "start_time": "2025-07-07T18:00:43.104123Z"
    }
   },
   "cell_type": "code",
   "source": [
    "\n",
    "\n",
    "lemmatized_texts = []\n",
    "docs = nlp.pipe(df['cleaned_text'], n_process=-1, batch_size=50)\n",
    "for doc in tqdm(docs, total=len(df), desc=\"Lemmatizing Texts\"):\n",
    "    tokens = [\n",
    "        token.lemma_ for token in doc\n",
    "        if (token.is_alpha and not token.is_stop) or token.lemma_.lower() in SENTIMENT_WHITELIST\n",
    "    ]\n",
    "    lemmatized_texts.append(\" \".join(tokens))\n",
    "df['lemmatized_text'] = lemmatized_texts"
   ],
   "id": "6fdca8b85f2d3eef",
   "outputs": [
    {
     "name": "stderr",
     "output_type": "stream",
     "text": [
      "Lemmatizing Texts: 100%|██████████| 746876/746876 [05:12<00:00, 2390.11it/s]\n"
     ]
    }
   ],
   "execution_count": 56
  },
  {
   "metadata": {
    "ExecuteTime": {
     "end_time": "2025-07-07T18:06:08.446412Z",
     "start_time": "2025-07-07T18:06:08.440857Z"
    }
   },
   "cell_type": "code",
   "source": "df.head()",
   "id": "ab275ab4967d4344",
   "outputs": [
    {
     "data": {
      "text/plain": [
       "                                             Comment  Rating  \\\n",
       "0  I already have a background in naturopathic me...     4.0   \n",
       "1  Very good course and it suits for everyone who...     5.0   \n",
       "2  A good introduction to herbal medicine. Not ve...     5.0   \n",
       "3  I'm glad to be a part of this course. As it ch...     5.0   \n",
       "4  Although I have already learned a lot regardin...     5.0   \n",
       "\n",
       "                                        cleaned_text  \\\n",
       "0  i already have a background in naturopathic me...   \n",
       "1  very good course and it suits for everyone who...   \n",
       "2  a good introduction to herbal medicine not ver...   \n",
       "3  im glad to be a part of this course as it chan...   \n",
       "4  although i have already learned a lot regardin...   \n",
       "\n",
       "                                     lemmatized_text  \n",
       "0  background naturopathic medicine take course r...  \n",
       "1  very good course suit like herbal medicinethe ...  \n",
       "2  good introduction herbal medicine not very use...  \n",
       "3  m glad course change entire perspective utiliz...  \n",
       "4  although learn lot botanical treatment get ver...  "
      ],
      "text/html": [
       "<div>\n",
       "<style scoped>\n",
       "    .dataframe tbody tr th:only-of-type {\n",
       "        vertical-align: middle;\n",
       "    }\n",
       "\n",
       "    .dataframe tbody tr th {\n",
       "        vertical-align: top;\n",
       "    }\n",
       "\n",
       "    .dataframe thead th {\n",
       "        text-align: right;\n",
       "    }\n",
       "</style>\n",
       "<table border=\"1\" class=\"dataframe\">\n",
       "  <thead>\n",
       "    <tr style=\"text-align: right;\">\n",
       "      <th></th>\n",
       "      <th>Comment</th>\n",
       "      <th>Rating</th>\n",
       "      <th>cleaned_text</th>\n",
       "      <th>lemmatized_text</th>\n",
       "    </tr>\n",
       "  </thead>\n",
       "  <tbody>\n",
       "    <tr>\n",
       "      <th>0</th>\n",
       "      <td>I already have a background in naturopathic me...</td>\n",
       "      <td>4.0</td>\n",
       "      <td>i already have a background in naturopathic me...</td>\n",
       "      <td>background naturopathic medicine take course r...</td>\n",
       "    </tr>\n",
       "    <tr>\n",
       "      <th>1</th>\n",
       "      <td>Very good course and it suits for everyone who...</td>\n",
       "      <td>5.0</td>\n",
       "      <td>very good course and it suits for everyone who...</td>\n",
       "      <td>very good course suit like herbal medicinethe ...</td>\n",
       "    </tr>\n",
       "    <tr>\n",
       "      <th>2</th>\n",
       "      <td>A good introduction to herbal medicine. Not ve...</td>\n",
       "      <td>5.0</td>\n",
       "      <td>a good introduction to herbal medicine not ver...</td>\n",
       "      <td>good introduction herbal medicine not very use...</td>\n",
       "    </tr>\n",
       "    <tr>\n",
       "      <th>3</th>\n",
       "      <td>I'm glad to be a part of this course. As it ch...</td>\n",
       "      <td>5.0</td>\n",
       "      <td>im glad to be a part of this course as it chan...</td>\n",
       "      <td>m glad course change entire perspective utiliz...</td>\n",
       "    </tr>\n",
       "    <tr>\n",
       "      <th>4</th>\n",
       "      <td>Although I have already learned a lot regardin...</td>\n",
       "      <td>5.0</td>\n",
       "      <td>although i have already learned a lot regardin...</td>\n",
       "      <td>although learn lot botanical treatment get ver...</td>\n",
       "    </tr>\n",
       "  </tbody>\n",
       "</table>\n",
       "</div>"
      ]
     },
     "execution_count": 57,
     "metadata": {},
     "output_type": "execute_result"
    }
   ],
   "execution_count": 57
  },
  {
   "metadata": {
    "ExecuteTime": {
     "end_time": "2025-07-07T18:06:13.588519Z",
     "start_time": "2025-07-07T18:06:13.580064Z"
    }
   },
   "cell_type": "code",
   "source": "print(df[\"Rating\"].value_counts())",
   "id": "ec7f78f1d4b4faf6",
   "outputs": [
    {
     "name": "stdout",
     "output_type": "stream",
     "text": [
      "Rating\n",
      "5.0    580056\n",
      "4.0    108386\n",
      "3.0     30727\n",
      "1.0     14680\n",
      "2.0     13027\n",
      "Name: count, dtype: int64\n"
     ]
    }
   ],
   "execution_count": 58
  },
  {
   "metadata": {},
   "cell_type": "markdown",
   "source": "## save the csv",
   "id": "5e9b78d879dde2b1"
  },
  {
   "metadata": {
    "ExecuteTime": {
     "end_time": "2025-07-07T18:06:20.227837Z",
     "start_time": "2025-07-07T18:06:17.102818Z"
    }
   },
   "cell_type": "code",
   "source": [
    "df.to_csv(\"../artifacts/preprocessed_reviews.csv\", index=False, header=True)\n",
    "print(\"Preprocessing complete!\")\n",
    "print(f\"Final shape: {df.shape}\")"
   ],
   "id": "a74a273eebb9bfa1",
   "outputs": [
    {
     "name": "stdout",
     "output_type": "stream",
     "text": [
      "Preprocessing complete!\n",
      "Final shape: (746876, 4)\n"
     ]
    }
   ],
   "execution_count": 59
  },
  {
   "metadata": {
    "ExecuteTime": {
     "end_time": "2025-07-07T18:09:14.912697Z",
     "start_time": "2025-07-07T18:09:14.907452Z"
    }
   },
   "cell_type": "code",
   "source": "df.head()",
   "id": "bbaaa0c75cc43a35",
   "outputs": [
    {
     "data": {
      "text/plain": [
       "                                             Comment  Rating  \\\n",
       "0  I already have a background in naturopathic me...     4.0   \n",
       "1  Very good course and it suits for everyone who...     5.0   \n",
       "2  A good introduction to herbal medicine. Not ve...     5.0   \n",
       "3  I'm glad to be a part of this course. As it ch...     5.0   \n",
       "4  Although I have already learned a lot regardin...     5.0   \n",
       "\n",
       "                                        cleaned_text  \\\n",
       "0  i already have a background in naturopathic me...   \n",
       "1  very good course and it suits for everyone who...   \n",
       "2  a good introduction to herbal medicine not ver...   \n",
       "3  im glad to be a part of this course as it chan...   \n",
       "4  although i have already learned a lot regardin...   \n",
       "\n",
       "                                     lemmatized_text  \n",
       "0  background naturopathic medicine take course r...  \n",
       "1  very good course suit like herbal medicinethe ...  \n",
       "2  good introduction herbal medicine not very use...  \n",
       "3  m glad course change entire perspective utiliz...  \n",
       "4  although learn lot botanical treatment get ver...  "
      ],
      "text/html": [
       "<div>\n",
       "<style scoped>\n",
       "    .dataframe tbody tr th:only-of-type {\n",
       "        vertical-align: middle;\n",
       "    }\n",
       "\n",
       "    .dataframe tbody tr th {\n",
       "        vertical-align: top;\n",
       "    }\n",
       "\n",
       "    .dataframe thead th {\n",
       "        text-align: right;\n",
       "    }\n",
       "</style>\n",
       "<table border=\"1\" class=\"dataframe\">\n",
       "  <thead>\n",
       "    <tr style=\"text-align: right;\">\n",
       "      <th></th>\n",
       "      <th>Comment</th>\n",
       "      <th>Rating</th>\n",
       "      <th>cleaned_text</th>\n",
       "      <th>lemmatized_text</th>\n",
       "    </tr>\n",
       "  </thead>\n",
       "  <tbody>\n",
       "    <tr>\n",
       "      <th>0</th>\n",
       "      <td>I already have a background in naturopathic me...</td>\n",
       "      <td>4.0</td>\n",
       "      <td>i already have a background in naturopathic me...</td>\n",
       "      <td>background naturopathic medicine take course r...</td>\n",
       "    </tr>\n",
       "    <tr>\n",
       "      <th>1</th>\n",
       "      <td>Very good course and it suits for everyone who...</td>\n",
       "      <td>5.0</td>\n",
       "      <td>very good course and it suits for everyone who...</td>\n",
       "      <td>very good course suit like herbal medicinethe ...</td>\n",
       "    </tr>\n",
       "    <tr>\n",
       "      <th>2</th>\n",
       "      <td>A good introduction to herbal medicine. Not ve...</td>\n",
       "      <td>5.0</td>\n",
       "      <td>a good introduction to herbal medicine not ver...</td>\n",
       "      <td>good introduction herbal medicine not very use...</td>\n",
       "    </tr>\n",
       "    <tr>\n",
       "      <th>3</th>\n",
       "      <td>I'm glad to be a part of this course. As it ch...</td>\n",
       "      <td>5.0</td>\n",
       "      <td>im glad to be a part of this course as it chan...</td>\n",
       "      <td>m glad course change entire perspective utiliz...</td>\n",
       "    </tr>\n",
       "    <tr>\n",
       "      <th>4</th>\n",
       "      <td>Although I have already learned a lot regardin...</td>\n",
       "      <td>5.0</td>\n",
       "      <td>although i have already learned a lot regardin...</td>\n",
       "      <td>although learn lot botanical treatment get ver...</td>\n",
       "    </tr>\n",
       "  </tbody>\n",
       "</table>\n",
       "</div>"
      ]
     },
     "execution_count": 60,
     "metadata": {},
     "output_type": "execute_result"
    }
   ],
   "execution_count": 60
  },
  {
   "metadata": {},
   "cell_type": "code",
   "outputs": [],
   "execution_count": null,
   "source": "",
   "id": "b7957f7154c194a9"
  }
 ],
 "metadata": {
  "kernelspec": {
   "display_name": "Python 3",
   "language": "python",
   "name": "python3"
  },
  "language_info": {
   "codemirror_mode": {
    "name": "ipython",
    "version": 2
   },
   "file_extension": ".py",
   "mimetype": "text/x-python",
   "name": "python",
   "nbconvert_exporter": "python",
   "pygments_lexer": "ipython2",
   "version": "2.7.6"
  }
 },
 "nbformat": 4,
 "nbformat_minor": 5
}
