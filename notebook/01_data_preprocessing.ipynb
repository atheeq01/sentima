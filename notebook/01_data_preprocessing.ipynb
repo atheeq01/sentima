{
 "cells": [
  {
   "cell_type": "code",
   "id": "initial_id",
   "metadata": {
    "collapsed": true,
    "ExecuteTime": {
     "end_time": "2025-05-20T12:17:11.443638Z",
     "start_time": "2025-05-20T12:17:11.441370Z"
    }
   },
   "source": [
    "import re\n",
    "import pandas as pd\n",
    "from langdetect import detect\n",
    "import nltk\n",
    "import spacy\n",
    "import string\n",
    "\n",
    "from nltk.corpus import stopwords\n",
    "from nltk.tokenize import word_tokenize\n"
   ],
   "outputs": [],
   "execution_count": 25
  },
  {
   "metadata": {
    "ExecuteTime": {
     "end_time": "2025-05-20T11:32:48.606053Z",
     "start_time": "2025-05-20T11:32:48.603469Z"
    }
   },
   "cell_type": "code",
   "source": [
    "import os\n",
    "\n",
    "current_path = os.getcwd()\n",
    "print(\"Current path:\", current_path)\n"
   ],
   "id": "c193405e0404cf8e",
   "outputs": [
    {
     "name": "stdout",
     "output_type": "stream",
     "text": [
      "Current path: /home/breezy-s-pc/Study/student_feedback_sentiment_analysis/notebook\n"
     ]
    }
   ],
   "execution_count": 2
  },
  {
   "metadata": {
    "ExecuteTime": {
     "end_time": "2025-05-20T11:32:48.968218Z",
     "start_time": "2025-05-20T11:32:48.674546Z"
    }
   },
   "cell_type": "code",
   "source": [
    "custom_directory = \"../artifacts\"\n",
    "\n",
    "nltk.download('punkt', download_dir=custom_directory)\n",
    "nltk.download('stopwords', download_dir=custom_directory)\n"
   ],
   "id": "e12d909ecf4ee278",
   "outputs": [
    {
     "name": "stderr",
     "output_type": "stream",
     "text": [
      "[nltk_data] Downloading package punkt to ../artifacts...\n",
      "[nltk_data]   Package punkt is already up-to-date!\n",
      "[nltk_data] Downloading package stopwords to ../artifacts...\n",
      "[nltk_data]   Package stopwords is already up-to-date!\n"
     ]
    },
    {
     "data": {
      "text/plain": [
       "True"
      ]
     },
     "execution_count": 3,
     "metadata": {},
     "output_type": "execute_result"
    }
   ],
   "execution_count": 3
  },
  {
   "metadata": {
    "ExecuteTime": {
     "end_time": "2025-05-20T11:32:48.985833Z",
     "start_time": "2025-05-20T11:32:48.983981Z"
    }
   },
   "cell_type": "code",
   "source": [
    "#change the nltk base directory\n",
    "nltk.data.path.append(custom_directory)"
   ],
   "id": "e115aeec72fd58b3",
   "outputs": [],
   "execution_count": 4
  },
  {
   "metadata": {},
   "cell_type": "markdown",
   "source": "# Going to read the csv file",
   "id": "4c60d8abc831a9af"
  },
  {
   "metadata": {
    "ExecuteTime": {
     "end_time": "2025-05-20T11:35:18.163173Z",
     "start_time": "2025-05-20T11:35:16.817141Z"
    }
   },
   "cell_type": "code",
   "source": "df = pd.read_csv(\"../artifacts/allReviews.csv\")",
   "id": "e52cda30564492af",
   "outputs": [],
   "execution_count": 5
  },
  {
   "metadata": {
    "ExecuteTime": {
     "end_time": "2025-05-20T11:35:20.698615Z",
     "start_time": "2025-05-20T11:35:20.691759Z"
    }
   },
   "cell_type": "code",
   "source": "df",
   "id": "f345f8ed1191fcc5",
   "outputs": [
    {
     "data": {
      "text/plain": [
       "        Unnamed: 0.1  Unnamed: 0           UserName          Date  \\\n",
       "0                  0         0.0           Robert H   Mar 3, 2020   \n",
       "1                  1         1.0  MAKARANON       W   Apr 1, 2019   \n",
       "2                  2         2.0             Morgan  Jun 26, 2019   \n",
       "3                  3         3.0          Javeria F  Sep 16, 2020   \n",
       "4                  4         4.0        Zsuzsanna D  Sep 21, 2020   \n",
       "...              ...         ...                ...           ...   \n",
       "903299        903299        39.0        Christina S  Oct 28, 2016   \n",
       "903300        903300        40.0         Choo C S V  Oct 25, 2016   \n",
       "903301        903301        41.0         Danial B O  Oct 18, 2016   \n",
       "903302        903302        42.0       Cristia S L    Mar 9, 2019   \n",
       "903303        903303        43.0             Sven J  May 24, 2018   \n",
       "\n",
       "                                                  Comment  Likes  Rating  \n",
       "0       I already have a background in naturopathic me...   14.0     4.0  \n",
       "1       Very good course and it suits for everyone who...    6.0     5.0  \n",
       "2       A good introduction to herbal medicine. Not ve...    5.0     5.0  \n",
       "3       I'm glad to be a part of this course. As it ch...    4.0     5.0  \n",
       "4       Although I have already learned a lot regardin...    3.0     5.0  \n",
       "...                                                   ...    ...     ...  \n",
       "903299  Great course to learn about the various web to...    0.0     4.0  \n",
       "903300  Thank you for introducing me to so much Web 2....    0.0     4.0  \n",
       "903301     Free Tools for Interactive Classroom Learning     0.0     4.0  \n",
       "903302                                          EXCELLENT    0.0     4.0  \n",
       "903303  This is nice course for teachers in schools. I...    0.0     3.0  \n",
       "\n",
       "[903304 rows x 7 columns]"
      ],
      "text/html": [
       "<div>\n",
       "<style scoped>\n",
       "    .dataframe tbody tr th:only-of-type {\n",
       "        vertical-align: middle;\n",
       "    }\n",
       "\n",
       "    .dataframe tbody tr th {\n",
       "        vertical-align: top;\n",
       "    }\n",
       "\n",
       "    .dataframe thead th {\n",
       "        text-align: right;\n",
       "    }\n",
       "</style>\n",
       "<table border=\"1\" class=\"dataframe\">\n",
       "  <thead>\n",
       "    <tr style=\"text-align: right;\">\n",
       "      <th></th>\n",
       "      <th>Unnamed: 0.1</th>\n",
       "      <th>Unnamed: 0</th>\n",
       "      <th>UserName</th>\n",
       "      <th>Date</th>\n",
       "      <th>Comment</th>\n",
       "      <th>Likes</th>\n",
       "      <th>Rating</th>\n",
       "    </tr>\n",
       "  </thead>\n",
       "  <tbody>\n",
       "    <tr>\n",
       "      <th>0</th>\n",
       "      <td>0</td>\n",
       "      <td>0.0</td>\n",
       "      <td>Robert H</td>\n",
       "      <td>Mar 3, 2020</td>\n",
       "      <td>I already have a background in naturopathic me...</td>\n",
       "      <td>14.0</td>\n",
       "      <td>4.0</td>\n",
       "    </tr>\n",
       "    <tr>\n",
       "      <th>1</th>\n",
       "      <td>1</td>\n",
       "      <td>1.0</td>\n",
       "      <td>MAKARANON       W</td>\n",
       "      <td>Apr 1, 2019</td>\n",
       "      <td>Very good course and it suits for everyone who...</td>\n",
       "      <td>6.0</td>\n",
       "      <td>5.0</td>\n",
       "    </tr>\n",
       "    <tr>\n",
       "      <th>2</th>\n",
       "      <td>2</td>\n",
       "      <td>2.0</td>\n",
       "      <td>Morgan</td>\n",
       "      <td>Jun 26, 2019</td>\n",
       "      <td>A good introduction to herbal medicine. Not ve...</td>\n",
       "      <td>5.0</td>\n",
       "      <td>5.0</td>\n",
       "    </tr>\n",
       "    <tr>\n",
       "      <th>3</th>\n",
       "      <td>3</td>\n",
       "      <td>3.0</td>\n",
       "      <td>Javeria F</td>\n",
       "      <td>Sep 16, 2020</td>\n",
       "      <td>I'm glad to be a part of this course. As it ch...</td>\n",
       "      <td>4.0</td>\n",
       "      <td>5.0</td>\n",
       "    </tr>\n",
       "    <tr>\n",
       "      <th>4</th>\n",
       "      <td>4</td>\n",
       "      <td>4.0</td>\n",
       "      <td>Zsuzsanna D</td>\n",
       "      <td>Sep 21, 2020</td>\n",
       "      <td>Although I have already learned a lot regardin...</td>\n",
       "      <td>3.0</td>\n",
       "      <td>5.0</td>\n",
       "    </tr>\n",
       "    <tr>\n",
       "      <th>...</th>\n",
       "      <td>...</td>\n",
       "      <td>...</td>\n",
       "      <td>...</td>\n",
       "      <td>...</td>\n",
       "      <td>...</td>\n",
       "      <td>...</td>\n",
       "      <td>...</td>\n",
       "    </tr>\n",
       "    <tr>\n",
       "      <th>903299</th>\n",
       "      <td>903299</td>\n",
       "      <td>39.0</td>\n",
       "      <td>Christina S</td>\n",
       "      <td>Oct 28, 2016</td>\n",
       "      <td>Great course to learn about the various web to...</td>\n",
       "      <td>0.0</td>\n",
       "      <td>4.0</td>\n",
       "    </tr>\n",
       "    <tr>\n",
       "      <th>903300</th>\n",
       "      <td>903300</td>\n",
       "      <td>40.0</td>\n",
       "      <td>Choo C S V</td>\n",
       "      <td>Oct 25, 2016</td>\n",
       "      <td>Thank you for introducing me to so much Web 2....</td>\n",
       "      <td>0.0</td>\n",
       "      <td>4.0</td>\n",
       "    </tr>\n",
       "    <tr>\n",
       "      <th>903301</th>\n",
       "      <td>903301</td>\n",
       "      <td>41.0</td>\n",
       "      <td>Danial B O</td>\n",
       "      <td>Oct 18, 2016</td>\n",
       "      <td>Free Tools for Interactive Classroom Learning</td>\n",
       "      <td>0.0</td>\n",
       "      <td>4.0</td>\n",
       "    </tr>\n",
       "    <tr>\n",
       "      <th>903302</th>\n",
       "      <td>903302</td>\n",
       "      <td>42.0</td>\n",
       "      <td>Cristia S L</td>\n",
       "      <td>Mar 9, 2019</td>\n",
       "      <td>EXCELLENT</td>\n",
       "      <td>0.0</td>\n",
       "      <td>4.0</td>\n",
       "    </tr>\n",
       "    <tr>\n",
       "      <th>903303</th>\n",
       "      <td>903303</td>\n",
       "      <td>43.0</td>\n",
       "      <td>Sven J</td>\n",
       "      <td>May 24, 2018</td>\n",
       "      <td>This is nice course for teachers in schools. I...</td>\n",
       "      <td>0.0</td>\n",
       "      <td>3.0</td>\n",
       "    </tr>\n",
       "  </tbody>\n",
       "</table>\n",
       "<p>903304 rows × 7 columns</p>\n",
       "</div>"
      ]
     },
     "execution_count": 6,
     "metadata": {},
     "output_type": "execute_result"
    }
   ],
   "execution_count": 6
  },
  {
   "metadata": {
    "ExecuteTime": {
     "end_time": "2025-05-20T11:37:33.562544Z",
     "start_time": "2025-05-20T11:37:33.543791Z"
    }
   },
   "cell_type": "code",
   "source": "df = df[[\"Comment\",\"Rating\"]]",
   "id": "21820468f44c2d6b",
   "outputs": [],
   "execution_count": 9
  },
  {
   "metadata": {
    "ExecuteTime": {
     "end_time": "2025-05-20T11:37:36.376578Z",
     "start_time": "2025-05-20T11:37:36.371437Z"
    }
   },
   "cell_type": "code",
   "source": "df",
   "id": "b9dd0c97c157baee",
   "outputs": [
    {
     "data": {
      "text/plain": [
       "                                                  Comment  Rating\n",
       "0       I already have a background in naturopathic me...     4.0\n",
       "1       Very good course and it suits for everyone who...     5.0\n",
       "2       A good introduction to herbal medicine. Not ve...     5.0\n",
       "3       I'm glad to be a part of this course. As it ch...     5.0\n",
       "4       Although I have already learned a lot regardin...     5.0\n",
       "...                                                   ...     ...\n",
       "903299  Great course to learn about the various web to...     4.0\n",
       "903300  Thank you for introducing me to so much Web 2....     4.0\n",
       "903301     Free Tools for Interactive Classroom Learning      4.0\n",
       "903302                                          EXCELLENT     4.0\n",
       "903303  This is nice course for teachers in schools. I...     3.0\n",
       "\n",
       "[903304 rows x 2 columns]"
      ],
      "text/html": [
       "<div>\n",
       "<style scoped>\n",
       "    .dataframe tbody tr th:only-of-type {\n",
       "        vertical-align: middle;\n",
       "    }\n",
       "\n",
       "    .dataframe tbody tr th {\n",
       "        vertical-align: top;\n",
       "    }\n",
       "\n",
       "    .dataframe thead th {\n",
       "        text-align: right;\n",
       "    }\n",
       "</style>\n",
       "<table border=\"1\" class=\"dataframe\">\n",
       "  <thead>\n",
       "    <tr style=\"text-align: right;\">\n",
       "      <th></th>\n",
       "      <th>Comment</th>\n",
       "      <th>Rating</th>\n",
       "    </tr>\n",
       "  </thead>\n",
       "  <tbody>\n",
       "    <tr>\n",
       "      <th>0</th>\n",
       "      <td>I already have a background in naturopathic me...</td>\n",
       "      <td>4.0</td>\n",
       "    </tr>\n",
       "    <tr>\n",
       "      <th>1</th>\n",
       "      <td>Very good course and it suits for everyone who...</td>\n",
       "      <td>5.0</td>\n",
       "    </tr>\n",
       "    <tr>\n",
       "      <th>2</th>\n",
       "      <td>A good introduction to herbal medicine. Not ve...</td>\n",
       "      <td>5.0</td>\n",
       "    </tr>\n",
       "    <tr>\n",
       "      <th>3</th>\n",
       "      <td>I'm glad to be a part of this course. As it ch...</td>\n",
       "      <td>5.0</td>\n",
       "    </tr>\n",
       "    <tr>\n",
       "      <th>4</th>\n",
       "      <td>Although I have already learned a lot regardin...</td>\n",
       "      <td>5.0</td>\n",
       "    </tr>\n",
       "    <tr>\n",
       "      <th>...</th>\n",
       "      <td>...</td>\n",
       "      <td>...</td>\n",
       "    </tr>\n",
       "    <tr>\n",
       "      <th>903299</th>\n",
       "      <td>Great course to learn about the various web to...</td>\n",
       "      <td>4.0</td>\n",
       "    </tr>\n",
       "    <tr>\n",
       "      <th>903300</th>\n",
       "      <td>Thank you for introducing me to so much Web 2....</td>\n",
       "      <td>4.0</td>\n",
       "    </tr>\n",
       "    <tr>\n",
       "      <th>903301</th>\n",
       "      <td>Free Tools for Interactive Classroom Learning</td>\n",
       "      <td>4.0</td>\n",
       "    </tr>\n",
       "    <tr>\n",
       "      <th>903302</th>\n",
       "      <td>EXCELLENT</td>\n",
       "      <td>4.0</td>\n",
       "    </tr>\n",
       "    <tr>\n",
       "      <th>903303</th>\n",
       "      <td>This is nice course for teachers in schools. I...</td>\n",
       "      <td>3.0</td>\n",
       "    </tr>\n",
       "  </tbody>\n",
       "</table>\n",
       "<p>903304 rows × 2 columns</p>\n",
       "</div>"
      ]
     },
     "execution_count": 10,
     "metadata": {},
     "output_type": "execute_result"
    }
   ],
   "execution_count": 10
  },
  {
   "metadata": {},
   "cell_type": "markdown",
   "source": "# filtering the english review",
   "id": "5f8adc197a8b0d44"
  },
  {
   "metadata": {
    "ExecuteTime": {
     "end_time": "2025-05-20T11:48:44.634769Z",
     "start_time": "2025-05-20T11:48:43.765507Z"
    }
   },
   "cell_type": "code",
   "source": "!pip install joblib",
   "id": "df215a40fe02b4e6",
   "outputs": [
    {
     "name": "stdout",
     "output_type": "stream",
     "text": [
      "Requirement already satisfied: joblib in /home/breezy-s-pc/Study/student_feedback_sentiment_analysis/venv/lib/python3.12/site-packages (1.5.0)\r\n"
     ]
    }
   ],
   "execution_count": 15
  },
  {
   "metadata": {},
   "cell_type": "markdown",
   "source": [
    "<h3>import joblib for parallel processing</h3>\n",
    "<p>use this for use all the cpu cores and threds</p>"
   ],
   "id": "c6122fc084a19964"
  },
  {
   "metadata": {
    "ExecuteTime": {
     "end_time": "2025-05-20T11:53:41.484300Z",
     "start_time": "2025-05-20T11:53:41.481798Z"
    }
   },
   "cell_type": "code",
   "source": "from joblib import Parallel, delayed",
   "id": "c9c36ad016c97386",
   "outputs": [],
   "execution_count": 18
  },
  {
   "metadata": {},
   "cell_type": "markdown",
   "source": "# definition for english language detect",
   "id": "883bb170439b4cdf"
  },
  {
   "metadata": {
    "ExecuteTime": {
     "end_time": "2025-05-20T11:53:43.046137Z",
     "start_time": "2025-05-20T11:53:43.043404Z"
    }
   },
   "cell_type": "code",
   "source": [
    "def is_english(text):\n",
    "    try:\n",
    "        return detect(text) == 'en'\n",
    "    except:\n",
    "        return False"
   ],
   "id": "35b37fa494a46df0",
   "outputs": [],
   "execution_count": 19
  },
  {
   "metadata": {},
   "cell_type": "markdown",
   "source": "# use the joblib parallel \"is_english\" function",
   "id": "60d28cc94314dea9"
  },
  {
   "metadata": {
    "ExecuteTime": {
     "end_time": "2025-05-20T11:59:44.421785Z",
     "start_time": "2025-05-20T11:56:11.193353Z"
    }
   },
   "cell_type": "code",
   "source": [
    "english_flags = Parallel(n_jobs=-1)(\n",
    "    delayed(is_english)(text) for text in df['Comment']\n",
    ")"
   ],
   "id": "76ed8742f5565111",
   "outputs": [],
   "execution_count": 21
  },
  {
   "metadata": {},
   "cell_type": "markdown",
   "source": "# remove the other language and filter the english",
   "id": "2df0ac3947a35944"
  },
  {
   "metadata": {
    "ExecuteTime": {
     "end_time": "2025-05-20T12:01:31.485043Z",
     "start_time": "2025-05-20T12:01:31.394234Z"
    }
   },
   "cell_type": "code",
   "source": [
    "df['is_english'] = english_flags\n",
    "df = df[df['is_english']].drop(columns='is_english').reset_index(drop=True)"
   ],
   "id": "7f0b8f7f6ea38b3f",
   "outputs": [
    {
     "name": "stderr",
     "output_type": "stream",
     "text": [
      "/tmp/ipykernel_26863/111721361.py:1: SettingWithCopyWarning: \n",
      "A value is trying to be set on a copy of a slice from a DataFrame.\n",
      "Try using .loc[row_indexer,col_indexer] = value instead\n",
      "\n",
      "See the caveats in the documentation: https://pandas.pydata.org/pandas-docs/stable/user_guide/indexing.html#returning-a-view-versus-a-copy\n",
      "  df['is_english'] = english_flags\n"
     ]
    }
   ],
   "execution_count": 22
  },
  {
   "metadata": {
    "ExecuteTime": {
     "end_time": "2025-05-20T12:02:14.715507Z",
     "start_time": "2025-05-20T12:02:14.709801Z"
    }
   },
   "cell_type": "code",
   "source": "df",
   "id": "b9c94e66dd97da40",
   "outputs": [
    {
     "data": {
      "text/plain": [
       "                                                  Comment  Rating\n",
       "0       I already have a background in naturopathic me...     4.0\n",
       "1       Very good course and it suits for everyone who...     5.0\n",
       "2       A good introduction to herbal medicine. Not ve...     5.0\n",
       "3       I'm glad to be a part of this course. As it ch...     5.0\n",
       "4       Although I have already learned a lot regardin...     5.0\n",
       "...                                                   ...     ...\n",
       "746995  Great course but the tools need updating. Amaz...     4.0\n",
       "746996  Great course to learn about the various web to...     4.0\n",
       "746997  Thank you for introducing me to so much Web 2....     4.0\n",
       "746998     Free Tools for Interactive Classroom Learning      4.0\n",
       "746999  This is nice course for teachers in schools. I...     3.0\n",
       "\n",
       "[747000 rows x 2 columns]"
      ],
      "text/html": [
       "<div>\n",
       "<style scoped>\n",
       "    .dataframe tbody tr th:only-of-type {\n",
       "        vertical-align: middle;\n",
       "    }\n",
       "\n",
       "    .dataframe tbody tr th {\n",
       "        vertical-align: top;\n",
       "    }\n",
       "\n",
       "    .dataframe thead th {\n",
       "        text-align: right;\n",
       "    }\n",
       "</style>\n",
       "<table border=\"1\" class=\"dataframe\">\n",
       "  <thead>\n",
       "    <tr style=\"text-align: right;\">\n",
       "      <th></th>\n",
       "      <th>Comment</th>\n",
       "      <th>Rating</th>\n",
       "    </tr>\n",
       "  </thead>\n",
       "  <tbody>\n",
       "    <tr>\n",
       "      <th>0</th>\n",
       "      <td>I already have a background in naturopathic me...</td>\n",
       "      <td>4.0</td>\n",
       "    </tr>\n",
       "    <tr>\n",
       "      <th>1</th>\n",
       "      <td>Very good course and it suits for everyone who...</td>\n",
       "      <td>5.0</td>\n",
       "    </tr>\n",
       "    <tr>\n",
       "      <th>2</th>\n",
       "      <td>A good introduction to herbal medicine. Not ve...</td>\n",
       "      <td>5.0</td>\n",
       "    </tr>\n",
       "    <tr>\n",
       "      <th>3</th>\n",
       "      <td>I'm glad to be a part of this course. As it ch...</td>\n",
       "      <td>5.0</td>\n",
       "    </tr>\n",
       "    <tr>\n",
       "      <th>4</th>\n",
       "      <td>Although I have already learned a lot regardin...</td>\n",
       "      <td>5.0</td>\n",
       "    </tr>\n",
       "    <tr>\n",
       "      <th>...</th>\n",
       "      <td>...</td>\n",
       "      <td>...</td>\n",
       "    </tr>\n",
       "    <tr>\n",
       "      <th>746995</th>\n",
       "      <td>Great course but the tools need updating. Amaz...</td>\n",
       "      <td>4.0</td>\n",
       "    </tr>\n",
       "    <tr>\n",
       "      <th>746996</th>\n",
       "      <td>Great course to learn about the various web to...</td>\n",
       "      <td>4.0</td>\n",
       "    </tr>\n",
       "    <tr>\n",
       "      <th>746997</th>\n",
       "      <td>Thank you for introducing me to so much Web 2....</td>\n",
       "      <td>4.0</td>\n",
       "    </tr>\n",
       "    <tr>\n",
       "      <th>746998</th>\n",
       "      <td>Free Tools for Interactive Classroom Learning</td>\n",
       "      <td>4.0</td>\n",
       "    </tr>\n",
       "    <tr>\n",
       "      <th>746999</th>\n",
       "      <td>This is nice course for teachers in schools. I...</td>\n",
       "      <td>3.0</td>\n",
       "    </tr>\n",
       "  </tbody>\n",
       "</table>\n",
       "<p>747000 rows × 2 columns</p>\n",
       "</div>"
      ]
     },
     "execution_count": 23,
     "metadata": {},
     "output_type": "execute_result"
    }
   ],
   "execution_count": 23
  },
  {
   "metadata": {},
   "cell_type": "markdown",
   "source": "# make solid copy to protect the work",
   "id": "35b34663fa179e02"
  },
  {
   "metadata": {
    "ExecuteTime": {
     "end_time": "2025-05-20T12:13:05.143568Z",
     "start_time": "2025-05-20T12:13:05.118095Z"
    }
   },
   "cell_type": "code",
   "source": "df_copy =df.copy()",
   "id": "4d989b51c7c2da40",
   "outputs": [],
   "execution_count": 24
  },
  {
   "metadata": {},
   "cell_type": "markdown",
   "source": " # remove the stop words using joblib for fast",
   "id": "158c88ecb982d0a"
  },
  {
   "metadata": {
    "ExecuteTime": {
     "end_time": "2025-05-20T12:32:36.806469Z",
     "start_time": "2025-05-20T12:32:33.988414Z"
    }
   },
   "cell_type": "code",
   "source": [
    "stop_words = set(stopwords.words('english'))\n",
    "def clean_text(text):\n",
    "    # lowercase\n",
    "    text = text.lower()\n",
    "    # remove URLs\n",
    "    text = re.sub(r\"http\\S+|www\\S+|https\\S+\", '', text, flags=re.MULTILINE)\n",
    "    # remove punctuation\n",
    "    text = text.translate(str.maketrans('', '', string.punctuation))\n",
    "    # remove numbers\n",
    "    text = re.sub(r'\\d+', '', text)\n",
    "    # remove extra spaces\n",
    "    text = re.sub(r'\\s+', ' ', text).strip()\n",
    "    return text\n",
    "\n",
    "df['cleaned_text']  = Parallel(n_jobs=-1)(delayed(clean_text)(text) for text in df['Comment'])"
   ],
   "id": "c7a3c09f64e39902",
   "outputs": [],
   "execution_count": 26
  },
  {
   "metadata": {
    "ExecuteTime": {
     "end_time": "2025-05-20T12:32:47.245579Z",
     "start_time": "2025-05-20T12:32:47.239080Z"
    }
   },
   "cell_type": "code",
   "source": "df",
   "id": "3cece09edaad9598",
   "outputs": [
    {
     "data": {
      "text/plain": [
       "                                                  Comment  Rating  \\\n",
       "0       I already have a background in naturopathic me...     4.0   \n",
       "1       Very good course and it suits for everyone who...     5.0   \n",
       "2       A good introduction to herbal medicine. Not ve...     5.0   \n",
       "3       I'm glad to be a part of this course. As it ch...     5.0   \n",
       "4       Although I have already learned a lot regardin...     5.0   \n",
       "...                                                   ...     ...   \n",
       "746995  Great course but the tools need updating. Amaz...     4.0   \n",
       "746996  Great course to learn about the various web to...     4.0   \n",
       "746997  Thank you for introducing me to so much Web 2....     4.0   \n",
       "746998     Free Tools for Interactive Classroom Learning      4.0   \n",
       "746999  This is nice course for teachers in schools. I...     3.0   \n",
       "\n",
       "                                             cleaned_text  \n",
       "0       i already have a background in naturopathic me...  \n",
       "1       very good course and it suits for everyone who...  \n",
       "2       a good introduction to herbal medicine not ver...  \n",
       "3       im glad to be a part of this course as it chan...  \n",
       "4       although i have already learned a lot regardin...  \n",
       "...                                                   ...  \n",
       "746995  great course but the tools need updating amazi...  \n",
       "746996  great course to learn about the various web to...  \n",
       "746997  thank you for introducing me to so much web tools  \n",
       "746998      free tools for interactive classroom learning  \n",
       "746999  this is nice course for teachers in schools i ...  \n",
       "\n",
       "[747000 rows x 3 columns]"
      ],
      "text/html": [
       "<div>\n",
       "<style scoped>\n",
       "    .dataframe tbody tr th:only-of-type {\n",
       "        vertical-align: middle;\n",
       "    }\n",
       "\n",
       "    .dataframe tbody tr th {\n",
       "        vertical-align: top;\n",
       "    }\n",
       "\n",
       "    .dataframe thead th {\n",
       "        text-align: right;\n",
       "    }\n",
       "</style>\n",
       "<table border=\"1\" class=\"dataframe\">\n",
       "  <thead>\n",
       "    <tr style=\"text-align: right;\">\n",
       "      <th></th>\n",
       "      <th>Comment</th>\n",
       "      <th>Rating</th>\n",
       "      <th>cleaned_text</th>\n",
       "    </tr>\n",
       "  </thead>\n",
       "  <tbody>\n",
       "    <tr>\n",
       "      <th>0</th>\n",
       "      <td>I already have a background in naturopathic me...</td>\n",
       "      <td>4.0</td>\n",
       "      <td>i already have a background in naturopathic me...</td>\n",
       "    </tr>\n",
       "    <tr>\n",
       "      <th>1</th>\n",
       "      <td>Very good course and it suits for everyone who...</td>\n",
       "      <td>5.0</td>\n",
       "      <td>very good course and it suits for everyone who...</td>\n",
       "    </tr>\n",
       "    <tr>\n",
       "      <th>2</th>\n",
       "      <td>A good introduction to herbal medicine. Not ve...</td>\n",
       "      <td>5.0</td>\n",
       "      <td>a good introduction to herbal medicine not ver...</td>\n",
       "    </tr>\n",
       "    <tr>\n",
       "      <th>3</th>\n",
       "      <td>I'm glad to be a part of this course. As it ch...</td>\n",
       "      <td>5.0</td>\n",
       "      <td>im glad to be a part of this course as it chan...</td>\n",
       "    </tr>\n",
       "    <tr>\n",
       "      <th>4</th>\n",
       "      <td>Although I have already learned a lot regardin...</td>\n",
       "      <td>5.0</td>\n",
       "      <td>although i have already learned a lot regardin...</td>\n",
       "    </tr>\n",
       "    <tr>\n",
       "      <th>...</th>\n",
       "      <td>...</td>\n",
       "      <td>...</td>\n",
       "      <td>...</td>\n",
       "    </tr>\n",
       "    <tr>\n",
       "      <th>746995</th>\n",
       "      <td>Great course but the tools need updating. Amaz...</td>\n",
       "      <td>4.0</td>\n",
       "      <td>great course but the tools need updating amazi...</td>\n",
       "    </tr>\n",
       "    <tr>\n",
       "      <th>746996</th>\n",
       "      <td>Great course to learn about the various web to...</td>\n",
       "      <td>4.0</td>\n",
       "      <td>great course to learn about the various web to...</td>\n",
       "    </tr>\n",
       "    <tr>\n",
       "      <th>746997</th>\n",
       "      <td>Thank you for introducing me to so much Web 2....</td>\n",
       "      <td>4.0</td>\n",
       "      <td>thank you for introducing me to so much web tools</td>\n",
       "    </tr>\n",
       "    <tr>\n",
       "      <th>746998</th>\n",
       "      <td>Free Tools for Interactive Classroom Learning</td>\n",
       "      <td>4.0</td>\n",
       "      <td>free tools for interactive classroom learning</td>\n",
       "    </tr>\n",
       "    <tr>\n",
       "      <th>746999</th>\n",
       "      <td>This is nice course for teachers in schools. I...</td>\n",
       "      <td>3.0</td>\n",
       "      <td>this is nice course for teachers in schools i ...</td>\n",
       "    </tr>\n",
       "  </tbody>\n",
       "</table>\n",
       "<p>747000 rows × 3 columns</p>\n",
       "</div>"
      ]
     },
     "execution_count": 27,
     "metadata": {},
     "output_type": "execute_result"
    }
   ],
   "execution_count": 27
  },
  {
   "metadata": {},
   "cell_type": "markdown",
   "source": [
    "# using lemmatize text\n",
    "<p>for more accuracy we use lemmatize text instead of stemming</p>\n",
    "<p>nlp.pipe(n_process=…)is\tDesigned for spaCy for safe parallelism and it  keeps order\tOnly works with spaCy</p>"
   ],
   "id": "489ca284954f20ed"
  },
  {
   "metadata": {
    "ExecuteTime": {
     "end_time": "2025-05-20T13:12:02.863542Z",
     "start_time": "2025-05-20T13:06:35.088587Z"
    }
   },
   "cell_type": "code",
   "source": [
    "nlp = spacy.load(\"en_core_web_sm\")\n",
    "\n",
    "def lemmatize_doc(doc):\n",
    "    return ' '.join([\n",
    "        token.lemma_\n",
    "        for token in doc\n",
    "        if token.is_alpha and not token.is_stop\n",
    "    ])\n",
    "\n",
    "# Use nlp.pipe to process docs in parallel\n",
    "docs = nlp.pipe(df['cleaned_text'], n_process=-1)\n",
    "\n",
    "# Apply lemmatization\n",
    "df['lemmatized_text'] = [lemmatize_doc(doc) for doc in docs]\n"
   ],
   "id": "d27d73cdea20f73e",
   "outputs": [],
   "execution_count": 31
  },
  {
   "metadata": {
    "ExecuteTime": {
     "end_time": "2025-05-20T14:11:43.502926Z",
     "start_time": "2025-05-20T14:11:40.844705Z"
    }
   },
   "cell_type": "code",
   "source": "df.to_csv(\"../artifacts/cleaned_text.csv\", index=True)",
   "id": "91f9f5fb63c992a3",
   "outputs": [],
   "execution_count": 32
  },
  {
   "metadata": {
    "ExecuteTime": {
     "end_time": "2025-05-20T11:04:38.544911Z",
     "start_time": "2025-05-20T11:04:38.467959Z"
    }
   },
   "cell_type": "code",
   "source": "df",
   "id": "fc1a3da3eaf8a598",
   "outputs": [
    {
     "ename": "NameError",
     "evalue": "name 'df' is not defined",
     "output_type": "error",
     "traceback": [
      "\u001B[31m---------------------------------------------------------------------------\u001B[39m",
      "\u001B[31mNameError\u001B[39m                                 Traceback (most recent call last)",
      "\u001B[36mCell\u001B[39m\u001B[36m \u001B[39m\u001B[32mIn[1]\u001B[39m\u001B[32m, line 1\u001B[39m\n\u001B[32m----> \u001B[39m\u001B[32m1\u001B[39m \u001B[43mdf\u001B[49m\n",
      "\u001B[31mNameError\u001B[39m: name 'df' is not defined"
     ]
    }
   ],
   "execution_count": 1
  },
  {
   "metadata": {},
   "cell_type": "code",
   "outputs": [],
   "execution_count": null,
   "source": "",
   "id": "c5051ad3647fb93a"
  }
 ],
 "metadata": {
  "kernelspec": {
   "display_name": "Python 3",
   "language": "python",
   "name": "python3"
  },
  "language_info": {
   "codemirror_mode": {
    "name": "ipython",
    "version": 2
   },
   "file_extension": ".py",
   "mimetype": "text/x-python",
   "name": "python",
   "nbconvert_exporter": "python",
   "pygments_lexer": "ipython2",
   "version": "2.7.6"
  }
 },
 "nbformat": 4,
 "nbformat_minor": 5
}
