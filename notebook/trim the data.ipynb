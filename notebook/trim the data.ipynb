{
 "cells": [
  {
   "metadata": {},
   "cell_type": "markdown",
   "source": "## fetch the csv",
   "id": "f12070c4ce1d528c"
  },
  {
   "cell_type": "code",
   "id": "8740a8d732168e18",
   "metadata": {
    "ExecuteTime": {
     "end_time": "2025-07-07T18:11:34.425382Z",
     "start_time": "2025-07-07T18:11:32.118907Z"
    }
   },
   "source": [
    "import pandas as pd\n",
    "\n",
    "df=pd.read_csv('../artifacts/preprocessed_reviews.csv')\n",
    "df = df[df[\"Comment\"].notnull() & df[\"Rating\"].notnull()]\n",
    "df = df[df[\"Comment\"].notnull() | df[\"Rating\"].notnull()]\n",
    "df = df[[\"Comment\", \"Rating\",\"lemmatized_text\"]]\n",
    "df_1 = df[df[\"Rating\"]==1].sample(n=2000,random_state=42)\n",
    "df_2 = df[df[\"Rating\"]==2].sample(n=2000,random_state=42)\n",
    "df_3 = df[df[\"Rating\"]==3].sample(n=4000,random_state=42)\n",
    "df_4 = df[df[\"Rating\"]==4].sample(n=2000,random_state=42)\n",
    "df_5 = df[df[\"Rating\"]==5].sample(n=2000,random_state=42)\n",
    "\n",
    "df_balanced = pd.concat([df_1,df_2,df_3,df_4,df_5])\n",
    "df = df_balanced.sample(frac=1,random_state=42).reset_index(drop=True)"
   ],
   "outputs": [],
   "execution_count": 11
  },
  {
   "metadata": {
    "ExecuteTime": {
     "end_time": "2025-07-07T18:11:35.200066Z",
     "start_time": "2025-07-07T18:11:35.194561Z"
    }
   },
   "cell_type": "code",
   "source": "df.head()",
   "id": "fa7045094de12a96",
   "outputs": [
    {
     "data": {
      "text/plain": [
       "                                             Comment  Rating  \\\n",
       "0  1- Almost no content , all just general knowle...     1.0   \n",
       "1  I enjoyed the topic.  The lectures could be au...     3.0   \n",
       "2            The lectures are boring and monotonous.     1.0   \n",
       "3  It was a bit complex for a beginner, but I lea...     4.0   \n",
       "4  The first few weeks are truly beginner/intro c...     1.0   \n",
       "\n",
       "                                     lemmatized_text  \n",
       "0  no content general knowledge instructor very h...  \n",
       "1  enjoy topic lecture augment break piece partic...  \n",
       "2                          lecture boring monotonous  \n",
       "3           bit complex beginner but learn lot thank  \n",
       "4  week truly beginnerintro course stuff entire c...  "
      ],
      "text/html": [
       "<div>\n",
       "<style scoped>\n",
       "    .dataframe tbody tr th:only-of-type {\n",
       "        vertical-align: middle;\n",
       "    }\n",
       "\n",
       "    .dataframe tbody tr th {\n",
       "        vertical-align: top;\n",
       "    }\n",
       "\n",
       "    .dataframe thead th {\n",
       "        text-align: right;\n",
       "    }\n",
       "</style>\n",
       "<table border=\"1\" class=\"dataframe\">\n",
       "  <thead>\n",
       "    <tr style=\"text-align: right;\">\n",
       "      <th></th>\n",
       "      <th>Comment</th>\n",
       "      <th>Rating</th>\n",
       "      <th>lemmatized_text</th>\n",
       "    </tr>\n",
       "  </thead>\n",
       "  <tbody>\n",
       "    <tr>\n",
       "      <th>0</th>\n",
       "      <td>1- Almost no content , all just general knowle...</td>\n",
       "      <td>1.0</td>\n",
       "      <td>no content general knowledge instructor very h...</td>\n",
       "    </tr>\n",
       "    <tr>\n",
       "      <th>1</th>\n",
       "      <td>I enjoyed the topic.  The lectures could be au...</td>\n",
       "      <td>3.0</td>\n",
       "      <td>enjoy topic lecture augment break piece partic...</td>\n",
       "    </tr>\n",
       "    <tr>\n",
       "      <th>2</th>\n",
       "      <td>The lectures are boring and monotonous.</td>\n",
       "      <td>1.0</td>\n",
       "      <td>lecture boring monotonous</td>\n",
       "    </tr>\n",
       "    <tr>\n",
       "      <th>3</th>\n",
       "      <td>It was a bit complex for a beginner, but I lea...</td>\n",
       "      <td>4.0</td>\n",
       "      <td>bit complex beginner but learn lot thank</td>\n",
       "    </tr>\n",
       "    <tr>\n",
       "      <th>4</th>\n",
       "      <td>The first few weeks are truly beginner/intro c...</td>\n",
       "      <td>1.0</td>\n",
       "      <td>week truly beginnerintro course stuff entire c...</td>\n",
       "    </tr>\n",
       "  </tbody>\n",
       "</table>\n",
       "</div>"
      ]
     },
     "execution_count": 12,
     "metadata": {},
     "output_type": "execute_result"
    }
   ],
   "execution_count": 12
  },
  {
   "metadata": {},
   "cell_type": "markdown",
   "source": "## Get the count of Ratings",
   "id": "e85f94cc738c38d5"
  },
  {
   "cell_type": "code",
   "id": "dbf44f87576961e6",
   "metadata": {
    "ExecuteTime": {
     "end_time": "2025-07-07T18:11:54.012137Z",
     "start_time": "2025-07-07T18:11:54.002705Z"
    }
   },
   "source": "print(df[\"Rating\"].value_counts())",
   "outputs": [
    {
     "name": "stdout",
     "output_type": "stream",
     "text": [
      "Rating\n",
      "3.0    4000\n",
      "1.0    2000\n",
      "4.0    2000\n",
      "2.0    2000\n",
      "5.0    2000\n",
      "Name: count, dtype: int64\n"
     ]
    }
   ],
   "execution_count": 13
  },
  {
   "metadata": {},
   "cell_type": "markdown",
   "source": "## rating map to sentiments",
   "id": "cd938d18c278a9bd"
  },
  {
   "cell_type": "code",
   "id": "beeccc6584ceac7a",
   "metadata": {
    "ExecuteTime": {
     "end_time": "2025-07-07T18:11:57.166238Z",
     "start_time": "2025-07-07T18:11:57.162913Z"
    }
   },
   "source": [
    "df[\"Sentiment\"]=df[\"Rating\"].map({\n",
    "    1:0,\n",
    "    2:0,\n",
    "    3:1,\n",
    "    4:2,\n",
    "    5:2\n",
    "})"
   ],
   "outputs": [],
   "execution_count": 14
  },
  {
   "metadata": {},
   "cell_type": "markdown",
   "source": "## sentiment count",
   "id": "c3307b206bd8a928"
  },
  {
   "cell_type": "code",
   "id": "d9babf9432e71684",
   "metadata": {
    "ExecuteTime": {
     "end_time": "2025-07-07T18:11:58.774698Z",
     "start_time": "2025-07-07T18:11:58.771532Z"
    }
   },
   "source": [
    "print(df[\"Sentiment\"].value_counts())"
   ],
   "outputs": [
    {
     "name": "stdout",
     "output_type": "stream",
     "text": [
      "Sentiment\n",
      "0    4000\n",
      "1    4000\n",
      "2    4000\n",
      "Name: count, dtype: int64\n"
     ]
    }
   ],
   "execution_count": 15
  },
  {
   "metadata": {
    "ExecuteTime": {
     "end_time": "2025-07-07T18:11:59.886625Z",
     "start_time": "2025-07-07T18:11:59.881421Z"
    }
   },
   "cell_type": "code",
   "source": "df.head()",
   "id": "7ec99e4720b97b8a",
   "outputs": [
    {
     "data": {
      "text/plain": [
       "                                             Comment  Rating  \\\n",
       "0  1- Almost no content , all just general knowle...     1.0   \n",
       "1  I enjoyed the topic.  The lectures could be au...     3.0   \n",
       "2            The lectures are boring and monotonous.     1.0   \n",
       "3  It was a bit complex for a beginner, but I lea...     4.0   \n",
       "4  The first few weeks are truly beginner/intro c...     1.0   \n",
       "\n",
       "                                     lemmatized_text  Sentiment  \n",
       "0  no content general knowledge instructor very h...          0  \n",
       "1  enjoy topic lecture augment break piece partic...          1  \n",
       "2                          lecture boring monotonous          0  \n",
       "3           bit complex beginner but learn lot thank          2  \n",
       "4  week truly beginnerintro course stuff entire c...          0  "
      ],
      "text/html": [
       "<div>\n",
       "<style scoped>\n",
       "    .dataframe tbody tr th:only-of-type {\n",
       "        vertical-align: middle;\n",
       "    }\n",
       "\n",
       "    .dataframe tbody tr th {\n",
       "        vertical-align: top;\n",
       "    }\n",
       "\n",
       "    .dataframe thead th {\n",
       "        text-align: right;\n",
       "    }\n",
       "</style>\n",
       "<table border=\"1\" class=\"dataframe\">\n",
       "  <thead>\n",
       "    <tr style=\"text-align: right;\">\n",
       "      <th></th>\n",
       "      <th>Comment</th>\n",
       "      <th>Rating</th>\n",
       "      <th>lemmatized_text</th>\n",
       "      <th>Sentiment</th>\n",
       "    </tr>\n",
       "  </thead>\n",
       "  <tbody>\n",
       "    <tr>\n",
       "      <th>0</th>\n",
       "      <td>1- Almost no content , all just general knowle...</td>\n",
       "      <td>1.0</td>\n",
       "      <td>no content general knowledge instructor very h...</td>\n",
       "      <td>0</td>\n",
       "    </tr>\n",
       "    <tr>\n",
       "      <th>1</th>\n",
       "      <td>I enjoyed the topic.  The lectures could be au...</td>\n",
       "      <td>3.0</td>\n",
       "      <td>enjoy topic lecture augment break piece partic...</td>\n",
       "      <td>1</td>\n",
       "    </tr>\n",
       "    <tr>\n",
       "      <th>2</th>\n",
       "      <td>The lectures are boring and monotonous.</td>\n",
       "      <td>1.0</td>\n",
       "      <td>lecture boring monotonous</td>\n",
       "      <td>0</td>\n",
       "    </tr>\n",
       "    <tr>\n",
       "      <th>3</th>\n",
       "      <td>It was a bit complex for a beginner, but I lea...</td>\n",
       "      <td>4.0</td>\n",
       "      <td>bit complex beginner but learn lot thank</td>\n",
       "      <td>2</td>\n",
       "    </tr>\n",
       "    <tr>\n",
       "      <th>4</th>\n",
       "      <td>The first few weeks are truly beginner/intro c...</td>\n",
       "      <td>1.0</td>\n",
       "      <td>week truly beginnerintro course stuff entire c...</td>\n",
       "      <td>0</td>\n",
       "    </tr>\n",
       "  </tbody>\n",
       "</table>\n",
       "</div>"
      ]
     },
     "execution_count": 16,
     "metadata": {},
     "output_type": "execute_result"
    }
   ],
   "execution_count": 16
  },
  {
   "metadata": {},
   "cell_type": "markdown",
   "source": "## Save only selected columns",
   "id": "94335d5a65c2caa0"
  },
  {
   "cell_type": "code",
   "id": "f40101a2-cbfa-4065-973a-66f0aaaba176",
   "metadata": {
    "ExecuteTime": {
     "end_time": "2025-07-07T18:12:30.075359Z",
     "start_time": "2025-07-07T18:12:30.042349Z"
    }
   },
   "source": [
    "columns_to_save = ['lemmatized_text', 'Sentiment']\n",
    "df.to_csv('../artifacts/Trim_data.csv', columns=columns_to_save, index=False,header=True)\n"
   ],
   "outputs": [],
   "execution_count": 17
  },
  {
   "metadata": {},
   "cell_type": "code",
   "outputs": [],
   "execution_count": null,
   "source": "",
   "id": "39ef66d9f66bfcd7"
  }
 ],
 "metadata": {
  "kernelspec": {
   "display_name": "Python 3 (ipykernel)",
   "language": "python",
   "name": "python3"
  },
  "language_info": {
   "codemirror_mode": {
    "name": "ipython",
    "version": 3
   },
   "file_extension": ".py",
   "mimetype": "text/x-python",
   "name": "python",
   "nbconvert_exporter": "python",
   "pygments_lexer": "ipython3",
   "version": "3.10.14"
  }
 },
 "nbformat": 4,
 "nbformat_minor": 5
}
