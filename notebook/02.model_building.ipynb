{
 "cells": [
  {
   "cell_type": "code",
   "id": "960c6d5f-6918-4583-b12c-475b5ad155fa",
   "metadata": {},
   "source": [
    "import numpy as np\n",
    "import pandas as pd\n",
    "import matplotlib.pyplot as plt"
   ],
   "outputs": [],
   "execution_count": null
  },
  {
   "cell_type": "code",
   "id": "722483f2-4d40-4986-a0da-fbf78b4412c7",
   "metadata": {},
   "source": "data = pd.read_csv('../artifacts/preprocessed_reviews.csv')",
   "outputs": [],
   "execution_count": null
  },
  {
   "cell_type": "code",
   "id": "a05bc72a-f6e0-4c0c-8152-acdda7eebac8",
   "metadata": {},
   "source": [
    "data.head()"
   ],
   "outputs": [],
   "execution_count": null
  },
  {
   "cell_type": "code",
   "id": "161a1619-756a-4fa7-95e9-42c0d6028e89",
   "metadata": {},
   "source": [
    "data.shape"
   ],
   "outputs": [],
   "execution_count": null
  },
  {
   "cell_type": "code",
   "id": "abe06b24-6227-429d-b622-90b7a29db15d",
   "metadata": {},
   "source": "data[\"lemmatized_text\"].tail(10)",
   "outputs": [],
   "execution_count": null
  },
  {
   "metadata": {},
   "cell_type": "markdown",
   "source": "## building vocablary",
   "id": "708d070f40e559c4"
  },
  {
   "cell_type": "code",
   "id": "1a893c6e-c9dd-43ab-b3c0-8d060bf1d0e8",
   "metadata": {},
   "source": [
    "from collections import Counter\n",
    "vocab = Counter()"
   ],
   "outputs": [],
   "execution_count": null
  },
  {
   "cell_type": "code",
   "id": "f3856569-d873-4d85-9700-190bf02edf82",
   "metadata": {},
   "source": [
    "data['lemmatized_text'] = data['lemmatized_text'].astype(str)\n",
    "for sentence in data['lemmatized_text']:\n",
    "    vocab.update(sentence.split())\n"
   ],
   "outputs": [],
   "execution_count": null
  },
  {
   "cell_type": "code",
   "id": "cdb215d9-c1ee-4261-98cc-6652c234e507",
   "metadata": {},
   "source": [
    "tokens = [key for key in vocab if vocab[key] > 10]"
   ],
   "outputs": [],
   "execution_count": null
  },
  {
   "cell_type": "code",
   "id": "c43dc766-41c8-4cab-9d3e-264cbba56596",
   "metadata": {},
   "source": [
    "len(tokens)"
   ],
   "outputs": [],
   "execution_count": null
  },
  {
   "cell_type": "code",
   "id": "9e76e1a1-b733-4ebe-854f-a74df4dd1412",
   "metadata": {},
   "source": [
    "def save_vocabulary(lines, filename):\n",
    "    data = '\\n'.join(lines)\n",
    "    file = open(filename, 'w', encoding=\"utf-8\")\n",
    "    file.write(data)\n",
    "    file.close()\n",
    "\n",
    "save_vocabulary(tokens, '../artifacts/vocabulary.txt')"
   ],
   "outputs": [],
   "execution_count": null
  },
  {
   "metadata": {},
   "cell_type": "code",
   "source": "data.head()",
   "id": "d3331ba6e8ae9526",
   "outputs": [],
   "execution_count": null
  },
  {
   "cell_type": "code",
   "id": "a6367776-095c-46c8-abc1-840d4dda9ea0",
   "metadata": {},
   "source": [
    "x = data['lemmatized_text']\n",
    "y = data['Rating']"
   ],
   "outputs": [],
   "execution_count": null
  },
  {
   "cell_type": "code",
   "id": "e9292e64-6bb1-4544-8077-02905fb9aeca",
   "metadata": {},
   "source": "y.head()",
   "outputs": [],
   "execution_count": null
  },
  {
   "cell_type": "code",
   "id": "30b2cc7f-6d94-4d5f-9dea-05e7de61ce3f",
   "metadata": {},
   "source": [
    "from sklearn.model_selection import train_test_split\n",
    "x_train, x_test, y_train, y_test = train_test_split(x, y, test_size=0.2)"
   ],
   "outputs": [],
   "execution_count": null
  },
  {
   "cell_type": "code",
   "id": "fb87d119-bbc3-4535-b0c1-70378785ca60",
   "metadata": {},
   "source": [
    "x_train.shape"
   ],
   "outputs": [],
   "execution_count": null
  },
  {
   "cell_type": "code",
   "id": "be5dc322-c720-47fa-b6e8-7b6621b2979f",
   "metadata": {},
   "source": [
    "x_test.shape"
   ],
   "outputs": [],
   "execution_count": null
  },
  {
   "metadata": {},
   "cell_type": "markdown",
   "source": "### Vectorization",
   "id": "d1d7e2436c132623"
  },
  {
   "cell_type": "code",
   "id": "4cd2329d-c59e-4cf3-9148-32f84d0728b6",
   "metadata": {},
   "source": [
    "import numpy as np\n",
    "from joblib import Parallel, delayed\n",
    "\n",
    "def vectorize_sentence(sentence, vocabulary):\n",
    "    vector = np.zeros(len(vocabulary), dtype=np.float32)\n",
    "    if isinstance(sentence, str):\n",
    "        words = set(sentence.split())\n",
    "        for i, token in enumerate(vocabulary):\n",
    "            if token in words:\n",
    "                vector[i] = 1\n",
    "    return vector\n",
    "\n",
    "def vectorizer_parallel_chunked(ds, vocabulary, n_jobs=-1, chunk_size=1000):\n",
    "    all_vectors = []\n",
    "\n",
    "    for i in range(0, len(ds), chunk_size):\n",
    "        chunk = ds[i:i+chunk_size]\n",
    "        vectors_chunk = Parallel(n_jobs=n_jobs)(\n",
    "            delayed(vectorize_sentence)(sentence, vocabulary) for sentence in chunk\n",
    "        )\n",
    "        all_vectors.extend(vectors_chunk)  # Efficient memory use\n",
    "        print(f\"Processed {min(i+chunk_size, len(ds))} / {len(ds)}\")\n",
    "\n",
    "    return np.array(all_vectors, dtype=np.float32)\n"
   ],
   "outputs": [],
   "execution_count": null
  },
  {
   "cell_type": "code",
   "id": "defad021-4fee-4dec-8237-5f0e700a3b1a",
   "metadata": {},
   "source": "vectorized_x_train = vectorizer_parallel_chunked(x_train, tokens, n_jobs=4, chunk_size=500)\n",
   "outputs": [],
   "execution_count": null
  },
  {
   "cell_type": "code",
   "id": "7d0c3a35-9d98-45a1-8cc2-131b04d91f3f",
   "metadata": {},
   "source": [
    "vectorized_x_train"
   ],
   "outputs": [],
   "execution_count": null
  },
  {
   "cell_type": "code",
   "id": "db53dcbc-4fa5-408e-8683-7c75f27f537c",
   "metadata": {},
   "source": "vectorized_x_test = vectorizer_parallel_chunked(x_test, tokens, n_jobs=4, chunk_size=500)\n",
   "outputs": [],
   "execution_count": null
  },
  {
   "cell_type": "code",
   "id": "e014134a-2560-48b0-8cbe-0eafbdba5abf",
   "metadata": {},
   "source": [
    "y_train.value_counts()"
   ],
   "outputs": [],
   "execution_count": null
  },
  {
   "cell_type": "raw",
   "id": "f496a32b-5e24-445e-b41f-7ebbcccc9626",
   "metadata": {},
   "source": [
    "##Handle imbalance dataset"
   ]
  },
  {
   "cell_type": "code",
   "id": "47881e29-74c5-4a20-9982-c7ba04533f2d",
   "metadata": {},
   "source": [
    "from imblearn.over_sampling import SMOTE\n",
    "smote = SMOTE()\n",
    "vectorized_x_train_smote, y_train_smote = smote.fit_resample(vectorized_x_train, y_train)\n",
    "print(vectorized_x_train_smote.shape, y_train_smote.shape)"
   ],
   "outputs": [],
   "execution_count": null
  },
  {
   "cell_type": "raw",
   "id": "5f922f7d-7a98-4592-b6f2-8c6263489b0e",
   "metadata": {},
   "source": [
    "##model evaluation"
   ]
  },
  {
   "cell_type": "code",
   "id": "b4a06238-2fa7-4884-acf5-f8a30cdef2b9",
   "metadata": {},
   "source": [
    "from sklearn.linear_model import LogisticRegression\n",
    "from sklearn.naive_bayes import MultinomialNB\n",
    "from sklearn.tree import DecisionTreeClassifier\n",
    "from sklearn.ensemble import RandomForestClassifier\n",
    "from sklearn.svm import SVC"
   ],
   "outputs": [],
   "execution_count": null
  },
  {
   "cell_type": "code",
   "id": "e3e19d27-035b-4944-a882-39f722699009",
   "metadata": {},
   "source": [
    "from sklearn.metrics import accuracy_score, f1_score, precision_score, recall_score\n",
    "\n",
    "# Function to calculate training scores\n",
    "def training_scores(y_act, y_pred):\n",
    "    acc = round(accuracy_score(y_act, y_pred), 3)\n",
    "    pr = round(precision_score(y_act, y_pred), 3)\n",
    "    rec = round(recall_score(y_act, y_pred), 3)\n",
    "    f1 = round(f1_score(y_act, y_pred), 3)\n",
    "    \n",
    "    print(f'Training Scores:\\n\\tAccuracy = {acc}\\n\\tPrecision = {pr}\\n\\tRecall = {rec}\\n\\tF1-Score = {f1}')\n",
    "\n",
    "# Function to calculate validation scores\n",
    "def validation_scores(y_act, y_pred):\n",
    "    acc = round(accuracy_score(y_act, y_pred), 3)\n",
    "    pr = round(precision_score(y_act, y_pred), 3)\n",
    "    rec = round(recall_score(y_act, y_pred), 3)\n",
    "    f1 = round(f1_score(y_act, y_pred), 3)\n",
    "    \n",
    "    print(f'Validation Scores:\\n\\tAccuracy = {acc}\\n\\tPrecision = {pr}\\n\\tRecall = {rec}\\n\\tF1-Score = {f1}')\n"
   ],
   "outputs": [],
   "execution_count": null
  },
  {
   "cell_type": "code",
   "id": "9825e694-590c-448a-a156-a0b38e316f3e",
   "metadata": {},
   "source": [
    "lr = LogisticRegression()\n",
    "\n",
    "# Train the model\n",
    "lr.fit(vectorized_x_train_smote, y_train_smote)\n",
    "\n",
    "# Make predictions\n",
    "y_train_pred = lr.predict(vectorized_x_train_smote)\n",
    "y_test_pred = lr.predict(vectorized_x_test)\n",
    "\n",
    "# Evaluate training and validation performance\n",
    "training_scores(y_train_smote, y_train_pred)\n",
    "validation_scores(y_test, y_test_pred)\n"
   ],
   "outputs": [],
   "execution_count": null
  },
  {
   "cell_type": "markdown",
   "id": "04528c33-4284-4d01-9fdb-e54c96102fe6",
   "metadata": {},
   "source": [
    "## Naive Bayes"
   ]
  },
  {
   "cell_type": "code",
   "id": "59844e40-ebcd-4ab6-8065-43d2cbda9631",
   "metadata": {},
   "source": [
    "mnb = MultinomialNB()\n",
    "\n",
    "# Train the model\n",
    "mnb.fit(vectorized_x_train_smote, y_train_smote)\n",
    "\n",
    "# Make predictions\n",
    "y_train_pred = mnb.predict(vectorized_x_train_smote)\n",
    "y_test_pred = mnb.predict(vectorized_x_test)\n",
    "\n",
    "# Evaluate training and validation performance\n",
    "training_scores(y_train_smote, y_train_pred)\n",
    "validation_scores(y_test, y_test_pred)\n"
   ],
   "outputs": [],
   "execution_count": null
  },
  {
   "cell_type": "markdown",
   "id": "0689411d-de4c-4779-97de-72b93f6814b5",
   "metadata": {},
   "source": [
    "## Desition tree"
   ]
  },
  {
   "cell_type": "code",
   "id": "d6cbbfbe-3629-4c26-8c95-7ae20b2f3984",
   "metadata": {},
   "source": [
    "dt = DecisionTreeClassifier()\n",
    "\n",
    "# Train the model\n",
    "dt.fit(vectorized_x_train_smote, y_train_smote)\n",
    "\n",
    "# Make predictions\n",
    "y_train_pred = dt.predict(vectorized_x_train_smote)\n",
    "y_test_pred = dt.predict(vectorized_x_test)\n",
    "\n",
    "# Evaluate training and validation performance\n",
    "training_scores(y_train_smote, y_train_pred)\n",
    "validation_scores(y_test, y_test_pred)"
   ],
   "outputs": [],
   "execution_count": null
  },
  {
   "cell_type": "markdown",
   "id": "4f76a7b9-43ac-4718-94a2-3fc1cba62bc4",
   "metadata": {},
   "source": [
    "## Random Forest"
   ]
  },
  {
   "cell_type": "code",
   "id": "f1e66fda-1a99-4dd0-9fc2-216132dbfa08",
   "metadata": {},
   "source": [
    "rf = RandomForestClassifier()\n",
    "\n",
    "# Train the model\n",
    "rf.fit(vectorized_x_train_smote, y_train_smote)\n",
    "\n",
    "# Make predictions\n",
    "y_train_pred = rf.predict(vectorized_x_train_smote)\n",
    "y_test_pred = rf.predict(vectorized_x_test)\n",
    "\n",
    "# Evaluate training and validation performance\n",
    "training_scores(y_train_smote, y_train_pred)\n",
    "validation_scores(y_test, y_test_pred)"
   ],
   "outputs": [],
   "execution_count": null
  },
  {
   "cell_type": "markdown",
   "id": "95b1368b-42b1-401e-95e2-ccf1a3560227",
   "metadata": {},
   "source": [
    "## Support Vector Machine"
   ]
  },
  {
   "cell_type": "code",
   "id": "4a2b442f-9836-43fa-9434-d05f87d04062",
   "metadata": {},
   "source": [
    "svm = SVC()\n",
    "\n",
    "# Train the model\n",
    "svm.fit(vectorized_x_train_smote, y_train_smote)\n",
    "\n",
    "# Make predictions\n",
    "y_train_pred = svm.predict(vectorized_x_train_smote)\n",
    "y_test_pred = svm.predict(vectorized_x_test)\n",
    "\n",
    "# Evaluate training and validation performance\n",
    "training_scores(y_train_smote, y_train_pred)\n",
    "validation_scores(y_test, y_test_pred)"
   ],
   "outputs": [],
   "execution_count": null
  },
  {
   "cell_type": "code",
   "id": "608c8a32-242f-4924-9242-7bc4a6736cf0",
   "metadata": {},
   "source": [
    "import pickle\n",
    "\n",
    "with open('../static/model/model.pickle', 'wb') as file:\n",
    "    pickle.dump(lr, file)"
   ],
   "outputs": [],
   "execution_count": null
  },
  {
   "cell_type": "code",
   "id": "1e35512f-5890-4ed9-ae00-5e1e4ffccce8",
   "metadata": {},
   "source": [],
   "outputs": [],
   "execution_count": null
  }
 ],
 "metadata": {
  "kernelspec": {
   "display_name": "Python 3 (ipykernel)",
   "language": "python",
   "name": "python3"
  },
  "language_info": {
   "codemirror_mode": {
    "name": "ipython",
    "version": 3
   },
   "file_extension": ".py",
   "mimetype": "text/x-python",
   "name": "python",
   "nbconvert_exporter": "python",
   "pygments_lexer": "ipython3",
   "version": "3.12.7"
  }
 },
 "nbformat": 4,
 "nbformat_minor": 5
}
