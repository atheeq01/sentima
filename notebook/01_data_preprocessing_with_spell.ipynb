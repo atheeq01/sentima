{
 "cells": [
  {
   "cell_type": "code",
   "id": "initial_id",
   "metadata": {
    "collapsed": true,
    "ExecuteTime": {
     "end_time": "2025-07-07T14:21:48.875895Z",
     "start_time": "2025-07-07T14:21:44.425205Z"
    }
   },
   "source": [
    "import re\n",
    "import pandas as pd\n",
    "from langdetect import detect\n",
    "import nltk\n",
    "import spacy\n",
    "import string\n",
    "import os\n",
    "\n",
    "from nltk.corpus import stopwords\n",
    "from nltk.tokenize import word_tokenize\n"
   ],
   "outputs": [],
   "execution_count": 1
  },
  {
   "metadata": {
    "ExecuteTime": {
     "end_time": "2025-07-07T14:21:50.362027Z",
     "start_time": "2025-07-07T14:21:50.359298Z"
    }
   },
   "cell_type": "code",
   "source": [
    "import os\n",
    "\n",
    "current_path = os.getcwd()\n",
    "print(\"Current path:\", current_path)\n"
   ],
   "id": "c193405e0404cf8e",
   "outputs": [
    {
     "name": "stdout",
     "output_type": "stream",
     "text": [
      "Current path: /home/breezy-s-pc/Study/senti_05_22/notebook\n"
     ]
    }
   ],
   "execution_count": 2
  },
  {
   "metadata": {
    "ExecuteTime": {
     "end_time": "2025-07-07T14:21:52.435441Z",
     "start_time": "2025-07-07T14:21:51.190815Z"
    }
   },
   "cell_type": "code",
   "source": [
    "custom_directory = \"../artifacts\"\n",
    "\n",
    "nltk.download('punkt', download_dir=custom_directory)\n",
    "nltk.download('stopwords', download_dir=custom_directory)\n"
   ],
   "id": "e12d909ecf4ee278",
   "outputs": [
    {
     "name": "stderr",
     "output_type": "stream",
     "text": [
      "[nltk_data] Downloading package punkt to ../artifacts...\n",
      "[nltk_data]   Package punkt is already up-to-date!\n",
      "[nltk_data] Downloading package stopwords to ../artifacts...\n",
      "[nltk_data]   Package stopwords is already up-to-date!\n"
     ]
    },
    {
     "data": {
      "text/plain": [
       "True"
      ]
     },
     "execution_count": 3,
     "metadata": {},
     "output_type": "execute_result"
    }
   ],
   "execution_count": 3
  },
  {
   "metadata": {
    "ExecuteTime": {
     "end_time": "2025-07-07T14:21:55.638311Z",
     "start_time": "2025-07-07T14:21:55.636019Z"
    }
   },
   "cell_type": "code",
   "source": [
    "#change the nltk base directory\n",
    "nltk.data.path.append(custom_directory)"
   ],
   "id": "e115aeec72fd58b3",
   "outputs": [],
   "execution_count": 4
  },
  {
   "metadata": {},
   "cell_type": "markdown",
   "source": "# Going to read the csv file",
   "id": "4c60d8abc831a9af"
  },
  {
   "metadata": {
    "ExecuteTime": {
     "end_time": "2025-07-07T14:22:00.798154Z",
     "start_time": "2025-07-07T14:22:00.776575Z"
    }
   },
   "cell_type": "code",
   "source": "df = pd.read_csv(\"../artifacts/sample_sentiment_analysis.csv\")",
   "id": "e52cda30564492af",
   "outputs": [],
   "execution_count": 5
  },
  {
   "metadata": {
    "ExecuteTime": {
     "end_time": "2025-07-07T14:22:01.632399Z",
     "start_time": "2025-07-07T14:22:01.626066Z"
    }
   },
   "cell_type": "code",
   "source": "df",
   "id": "f345f8ed1191fcc5",
   "outputs": [
    {
     "data": {
      "text/plain": [
       "        id  Rating                                            Comment\n",
       "0        1       0  #fingerprint #Pregnancy Test https://goo.gl/h1...\n",
       "1        2       0  Finally a transparant silicon case ^^ Thanks t...\n",
       "2        3       0  We love this! Would you go? #talk #makememorie...\n",
       "3        4       0  I'm wired I know I'm George I was made that wa...\n",
       "4        5       1  What amazing service! Apple won't even talk to...\n",
       "...    ...     ...                                                ...\n",
       "7915  7916       0  Live out loud #lol #liveoutloud #selfie #smile...\n",
       "7916  7917       0  We would like to wish you an amazing day! Make...\n",
       "7917  7918       0  Helping my lovely 90 year old neighbor with he...\n",
       "7918  7919       0  Finally got my #smart #pocket #wifi stay conne...\n",
       "7919  7920       0  Apple Barcelona!!! #Apple #Store #BCN #Barcelo...\n",
       "\n",
       "[7920 rows x 3 columns]"
      ],
      "text/html": [
       "<div>\n",
       "<style scoped>\n",
       "    .dataframe tbody tr th:only-of-type {\n",
       "        vertical-align: middle;\n",
       "    }\n",
       "\n",
       "    .dataframe tbody tr th {\n",
       "        vertical-align: top;\n",
       "    }\n",
       "\n",
       "    .dataframe thead th {\n",
       "        text-align: right;\n",
       "    }\n",
       "</style>\n",
       "<table border=\"1\" class=\"dataframe\">\n",
       "  <thead>\n",
       "    <tr style=\"text-align: right;\">\n",
       "      <th></th>\n",
       "      <th>id</th>\n",
       "      <th>Rating</th>\n",
       "      <th>Comment</th>\n",
       "    </tr>\n",
       "  </thead>\n",
       "  <tbody>\n",
       "    <tr>\n",
       "      <th>0</th>\n",
       "      <td>1</td>\n",
       "      <td>0</td>\n",
       "      <td>#fingerprint #Pregnancy Test https://goo.gl/h1...</td>\n",
       "    </tr>\n",
       "    <tr>\n",
       "      <th>1</th>\n",
       "      <td>2</td>\n",
       "      <td>0</td>\n",
       "      <td>Finally a transparant silicon case ^^ Thanks t...</td>\n",
       "    </tr>\n",
       "    <tr>\n",
       "      <th>2</th>\n",
       "      <td>3</td>\n",
       "      <td>0</td>\n",
       "      <td>We love this! Would you go? #talk #makememorie...</td>\n",
       "    </tr>\n",
       "    <tr>\n",
       "      <th>3</th>\n",
       "      <td>4</td>\n",
       "      <td>0</td>\n",
       "      <td>I'm wired I know I'm George I was made that wa...</td>\n",
       "    </tr>\n",
       "    <tr>\n",
       "      <th>4</th>\n",
       "      <td>5</td>\n",
       "      <td>1</td>\n",
       "      <td>What amazing service! Apple won't even talk to...</td>\n",
       "    </tr>\n",
       "    <tr>\n",
       "      <th>...</th>\n",
       "      <td>...</td>\n",
       "      <td>...</td>\n",
       "      <td>...</td>\n",
       "    </tr>\n",
       "    <tr>\n",
       "      <th>7915</th>\n",
       "      <td>7916</td>\n",
       "      <td>0</td>\n",
       "      <td>Live out loud #lol #liveoutloud #selfie #smile...</td>\n",
       "    </tr>\n",
       "    <tr>\n",
       "      <th>7916</th>\n",
       "      <td>7917</td>\n",
       "      <td>0</td>\n",
       "      <td>We would like to wish you an amazing day! Make...</td>\n",
       "    </tr>\n",
       "    <tr>\n",
       "      <th>7917</th>\n",
       "      <td>7918</td>\n",
       "      <td>0</td>\n",
       "      <td>Helping my lovely 90 year old neighbor with he...</td>\n",
       "    </tr>\n",
       "    <tr>\n",
       "      <th>7918</th>\n",
       "      <td>7919</td>\n",
       "      <td>0</td>\n",
       "      <td>Finally got my #smart #pocket #wifi stay conne...</td>\n",
       "    </tr>\n",
       "    <tr>\n",
       "      <th>7919</th>\n",
       "      <td>7920</td>\n",
       "      <td>0</td>\n",
       "      <td>Apple Barcelona!!! #Apple #Store #BCN #Barcelo...</td>\n",
       "    </tr>\n",
       "  </tbody>\n",
       "</table>\n",
       "<p>7920 rows × 3 columns</p>\n",
       "</div>"
      ]
     },
     "execution_count": 6,
     "metadata": {},
     "output_type": "execute_result"
    }
   ],
   "execution_count": 6
  },
  {
   "metadata": {
    "ExecuteTime": {
     "end_time": "2025-05-22T09:01:46.118434Z",
     "start_time": "2025-05-22T09:01:46.116116Z"
    }
   },
   "cell_type": "code",
   "source": "df = df[[\"Comment\",\"Rating\"]]",
   "id": "21820468f44c2d6b",
   "outputs": [],
   "execution_count": 48
  },
  {
   "metadata": {
    "ExecuteTime": {
     "end_time": "2025-05-22T09:01:46.186154Z",
     "start_time": "2025-05-22T09:01:46.182005Z"
    }
   },
   "cell_type": "code",
   "source": "df",
   "id": "b9dd0c97c157baee",
   "outputs": [
    {
     "data": {
      "text/plain": [
       "                                                Comment  Rating\n",
       "0     #fingerprint #Pregnancy Test https://goo.gl/h1...       0\n",
       "1     Finally a transparant silicon case ^^ Thanks t...       0\n",
       "2     We love this! Would you go? #talk #makememorie...       0\n",
       "3     I'm wired I know I'm George I was made that wa...       0\n",
       "4     What amazing service! Apple won't even talk to...       1\n",
       "...                                                 ...     ...\n",
       "7915  Live out loud #lol #liveoutloud #selfie #smile...       0\n",
       "7916  We would like to wish you an amazing day! Make...       0\n",
       "7917  Helping my lovely 90 year old neighbor with he...       0\n",
       "7918  Finally got my #smart #pocket #wifi stay conne...       0\n",
       "7919  Apple Barcelona!!! #Apple #Store #BCN #Barcelo...       0\n",
       "\n",
       "[7920 rows x 2 columns]"
      ],
      "text/html": [
       "<div>\n",
       "<style scoped>\n",
       "    .dataframe tbody tr th:only-of-type {\n",
       "        vertical-align: middle;\n",
       "    }\n",
       "\n",
       "    .dataframe tbody tr th {\n",
       "        vertical-align: top;\n",
       "    }\n",
       "\n",
       "    .dataframe thead th {\n",
       "        text-align: right;\n",
       "    }\n",
       "</style>\n",
       "<table border=\"1\" class=\"dataframe\">\n",
       "  <thead>\n",
       "    <tr style=\"text-align: right;\">\n",
       "      <th></th>\n",
       "      <th>Comment</th>\n",
       "      <th>Rating</th>\n",
       "    </tr>\n",
       "  </thead>\n",
       "  <tbody>\n",
       "    <tr>\n",
       "      <th>0</th>\n",
       "      <td>#fingerprint #Pregnancy Test https://goo.gl/h1...</td>\n",
       "      <td>0</td>\n",
       "    </tr>\n",
       "    <tr>\n",
       "      <th>1</th>\n",
       "      <td>Finally a transparant silicon case ^^ Thanks t...</td>\n",
       "      <td>0</td>\n",
       "    </tr>\n",
       "    <tr>\n",
       "      <th>2</th>\n",
       "      <td>We love this! Would you go? #talk #makememorie...</td>\n",
       "      <td>0</td>\n",
       "    </tr>\n",
       "    <tr>\n",
       "      <th>3</th>\n",
       "      <td>I'm wired I know I'm George I was made that wa...</td>\n",
       "      <td>0</td>\n",
       "    </tr>\n",
       "    <tr>\n",
       "      <th>4</th>\n",
       "      <td>What amazing service! Apple won't even talk to...</td>\n",
       "      <td>1</td>\n",
       "    </tr>\n",
       "    <tr>\n",
       "      <th>...</th>\n",
       "      <td>...</td>\n",
       "      <td>...</td>\n",
       "    </tr>\n",
       "    <tr>\n",
       "      <th>7915</th>\n",
       "      <td>Live out loud #lol #liveoutloud #selfie #smile...</td>\n",
       "      <td>0</td>\n",
       "    </tr>\n",
       "    <tr>\n",
       "      <th>7916</th>\n",
       "      <td>We would like to wish you an amazing day! Make...</td>\n",
       "      <td>0</td>\n",
       "    </tr>\n",
       "    <tr>\n",
       "      <th>7917</th>\n",
       "      <td>Helping my lovely 90 year old neighbor with he...</td>\n",
       "      <td>0</td>\n",
       "    </tr>\n",
       "    <tr>\n",
       "      <th>7918</th>\n",
       "      <td>Finally got my #smart #pocket #wifi stay conne...</td>\n",
       "      <td>0</td>\n",
       "    </tr>\n",
       "    <tr>\n",
       "      <th>7919</th>\n",
       "      <td>Apple Barcelona!!! #Apple #Store #BCN #Barcelo...</td>\n",
       "      <td>0</td>\n",
       "    </tr>\n",
       "  </tbody>\n",
       "</table>\n",
       "<p>7920 rows × 2 columns</p>\n",
       "</div>"
      ]
     },
     "execution_count": 49,
     "metadata": {},
     "output_type": "execute_result"
    }
   ],
   "execution_count": 49
  },
  {
   "metadata": {},
   "cell_type": "markdown",
   "source": "# filtering the english review",
   "id": "5f8adc197a8b0d44"
  },
  {
   "metadata": {
    "ExecuteTime": {
     "end_time": "2025-05-22T09:01:46.988114Z",
     "start_time": "2025-05-22T09:01:46.246390Z"
    }
   },
   "cell_type": "code",
   "source": "!pip install joblib",
   "id": "df215a40fe02b4e6",
   "outputs": [
    {
     "name": "stdout",
     "output_type": "stream",
     "text": [
      "Requirement already satisfied: joblib in /home/breezy-s-pc/Study/senti_05_22/venv/lib/python3.10/site-packages (1.5.0)\r\n"
     ]
    }
   ],
   "execution_count": 50
  },
  {
   "metadata": {},
   "cell_type": "markdown",
   "source": [
    "<h3>import joblib for parallel processing</h3>\n",
    "<p>use this for use all the cpu cores and threds</p>"
   ],
   "id": "c6122fc084a19964"
  },
  {
   "metadata": {
    "ExecuteTime": {
     "end_time": "2025-05-22T09:01:47.020009Z",
     "start_time": "2025-05-22T09:01:47.018126Z"
    }
   },
   "cell_type": "code",
   "source": "from joblib import Parallel, delayed",
   "id": "c9c36ad016c97386",
   "outputs": [],
   "execution_count": 51
  },
  {
   "metadata": {},
   "cell_type": "markdown",
   "source": "# definition for english language detect",
   "id": "883bb170439b4cdf"
  },
  {
   "metadata": {
    "ExecuteTime": {
     "end_time": "2025-05-22T09:01:47.066959Z",
     "start_time": "2025-05-22T09:01:47.064940Z"
    }
   },
   "cell_type": "code",
   "source": [
    "def is_english(text):\n",
    "    try:\n",
    "        return detect(text) == 'en'\n",
    "    except:\n",
    "        return False"
   ],
   "id": "35b37fa494a46df0",
   "outputs": [],
   "execution_count": 52
  },
  {
   "metadata": {},
   "cell_type": "markdown",
   "source": "# use the joblib parallel \"is_english\" function",
   "id": "60d28cc94314dea9"
  },
  {
   "metadata": {
    "ExecuteTime": {
     "end_time": "2025-05-22T09:01:50.527878Z",
     "start_time": "2025-05-22T09:01:47.112798Z"
    }
   },
   "cell_type": "code",
   "source": [
    "english_flags = Parallel(n_jobs=-1)(\n",
    "    delayed(is_english)(text) for text in df['Comment']\n",
    ")"
   ],
   "id": "76ed8742f5565111",
   "outputs": [],
   "execution_count": 53
  },
  {
   "metadata": {},
   "cell_type": "markdown",
   "source": "# remove the other language and filter the english",
   "id": "2df0ac3947a35944"
  },
  {
   "metadata": {
    "ExecuteTime": {
     "end_time": "2025-05-22T09:01:50.543297Z",
     "start_time": "2025-05-22T09:01:50.538971Z"
    }
   },
   "cell_type": "code",
   "source": [
    "df['is_english'] = english_flags\n",
    "df = df[df['is_english']].drop(columns='is_english').reset_index(drop=True)"
   ],
   "id": "7f0b8f7f6ea38b3f",
   "outputs": [],
   "execution_count": 54
  },
  {
   "metadata": {
    "ExecuteTime": {
     "end_time": "2025-05-22T09:01:50.593131Z",
     "start_time": "2025-05-22T09:01:50.588343Z"
    }
   },
   "cell_type": "code",
   "source": "df",
   "id": "b9c94e66dd97da40",
   "outputs": [
    {
     "data": {
      "text/plain": [
       "                                                Comment  Rating\n",
       "0     #fingerprint #Pregnancy Test https://goo.gl/h1...       0\n",
       "1     Finally a transparant silicon case ^^ Thanks t...       0\n",
       "2     We love this! Would you go? #talk #makememorie...       0\n",
       "3     I'm wired I know I'm George I was made that wa...       0\n",
       "4     What amazing service! Apple won't even talk to...       1\n",
       "...                                                 ...     ...\n",
       "7698  Live out loud #lol #liveoutloud #selfie #smile...       0\n",
       "7699  We would like to wish you an amazing day! Make...       0\n",
       "7700  Helping my lovely 90 year old neighbor with he...       0\n",
       "7701  Finally got my #smart #pocket #wifi stay conne...       0\n",
       "7702  Apple Barcelona!!! #Apple #Store #BCN #Barcelo...       0\n",
       "\n",
       "[7703 rows x 2 columns]"
      ],
      "text/html": [
       "<div>\n",
       "<style scoped>\n",
       "    .dataframe tbody tr th:only-of-type {\n",
       "        vertical-align: middle;\n",
       "    }\n",
       "\n",
       "    .dataframe tbody tr th {\n",
       "        vertical-align: top;\n",
       "    }\n",
       "\n",
       "    .dataframe thead th {\n",
       "        text-align: right;\n",
       "    }\n",
       "</style>\n",
       "<table border=\"1\" class=\"dataframe\">\n",
       "  <thead>\n",
       "    <tr style=\"text-align: right;\">\n",
       "      <th></th>\n",
       "      <th>Comment</th>\n",
       "      <th>Rating</th>\n",
       "    </tr>\n",
       "  </thead>\n",
       "  <tbody>\n",
       "    <tr>\n",
       "      <th>0</th>\n",
       "      <td>#fingerprint #Pregnancy Test https://goo.gl/h1...</td>\n",
       "      <td>0</td>\n",
       "    </tr>\n",
       "    <tr>\n",
       "      <th>1</th>\n",
       "      <td>Finally a transparant silicon case ^^ Thanks t...</td>\n",
       "      <td>0</td>\n",
       "    </tr>\n",
       "    <tr>\n",
       "      <th>2</th>\n",
       "      <td>We love this! Would you go? #talk #makememorie...</td>\n",
       "      <td>0</td>\n",
       "    </tr>\n",
       "    <tr>\n",
       "      <th>3</th>\n",
       "      <td>I'm wired I know I'm George I was made that wa...</td>\n",
       "      <td>0</td>\n",
       "    </tr>\n",
       "    <tr>\n",
       "      <th>4</th>\n",
       "      <td>What amazing service! Apple won't even talk to...</td>\n",
       "      <td>1</td>\n",
       "    </tr>\n",
       "    <tr>\n",
       "      <th>...</th>\n",
       "      <td>...</td>\n",
       "      <td>...</td>\n",
       "    </tr>\n",
       "    <tr>\n",
       "      <th>7698</th>\n",
       "      <td>Live out loud #lol #liveoutloud #selfie #smile...</td>\n",
       "      <td>0</td>\n",
       "    </tr>\n",
       "    <tr>\n",
       "      <th>7699</th>\n",
       "      <td>We would like to wish you an amazing day! Make...</td>\n",
       "      <td>0</td>\n",
       "    </tr>\n",
       "    <tr>\n",
       "      <th>7700</th>\n",
       "      <td>Helping my lovely 90 year old neighbor with he...</td>\n",
       "      <td>0</td>\n",
       "    </tr>\n",
       "    <tr>\n",
       "      <th>7701</th>\n",
       "      <td>Finally got my #smart #pocket #wifi stay conne...</td>\n",
       "      <td>0</td>\n",
       "    </tr>\n",
       "    <tr>\n",
       "      <th>7702</th>\n",
       "      <td>Apple Barcelona!!! #Apple #Store #BCN #Barcelo...</td>\n",
       "      <td>0</td>\n",
       "    </tr>\n",
       "  </tbody>\n",
       "</table>\n",
       "<p>7703 rows × 2 columns</p>\n",
       "</div>"
      ]
     },
     "execution_count": 55,
     "metadata": {},
     "output_type": "execute_result"
    }
   ],
   "execution_count": 55
  },
  {
   "metadata": {},
   "cell_type": "markdown",
   "source": "# import the symspellpy",
   "id": "e078f99c9d7df593"
  },
  {
   "metadata": {
    "ExecuteTime": {
     "end_time": "2025-05-22T09:01:50.666668Z",
     "start_time": "2025-05-22T09:01:50.664723Z"
    }
   },
   "cell_type": "code",
   "source": "from symspellpy import SymSpell,Verbosity",
   "id": "4db6821f31ab2671",
   "outputs": [],
   "execution_count": 56
  },
  {
   "metadata": {},
   "cell_type": "markdown",
   "source": "# create spell check function",
   "id": "53aebc8d4998964d"
  },
  {
   "metadata": {
    "ExecuteTime": {
     "end_time": "2025-05-22T09:01:51.041157Z",
     "start_time": "2025-05-22T09:01:50.733003Z"
    }
   },
   "cell_type": "code",
   "source": [
    "sym_spell = SymSpell(max_dictionary_edit_distance=2, prefix_length=7)\n",
    "sym_spell.load_dictionary(\"frequency_dictionary_en_82_765.txt\", term_index=0, count_index=1)\n",
    "\n",
    "def correct_spelling(text):\n",
    "    suggestions = sym_spell.lookup_compound(text, max_edit_distance=2)\n",
    "    return suggestions[0].term if suggestions else text\n",
    "\n",
    "# df['Corrected'] = df['Comment'].apply(correct_spelling)\n",
    "\n",
    "spell_checked = Parallel(n_jobs=-1)(\n",
    "    delayed(correct_spelling)(text) for text in df['Comment'])\n",
    "\n",
    "df['Corrected'] = spell_checked"
   ],
   "id": "d1f8af18d0577730",
   "outputs": [
    {
     "name": "stderr",
     "output_type": "stream",
     "text": [
      "2025-05-22 14:31:50,734: E symspellpy.symspellpy] Dictionary file not found at frequency_dictionary_en_82_765.txt.\n"
     ]
    }
   ],
   "execution_count": 57
  },
  {
   "metadata": {},
   "cell_type": "markdown",
   "source": "# make solid copy to protect the work",
   "id": "35b34663fa179e02"
  },
  {
   "metadata": {
    "ExecuteTime": {
     "end_time": "2025-05-22T09:01:51.098473Z",
     "start_time": "2025-05-22T09:01:51.095098Z"
    }
   },
   "cell_type": "code",
   "source": "df_copy =df.copy()",
   "id": "4d989b51c7c2da40",
   "outputs": [],
   "execution_count": 58
  },
  {
   "metadata": {},
   "cell_type": "markdown",
   "source": " # remove the stop words using joblib for fast",
   "id": "158c88ecb982d0a"
  },
  {
   "metadata": {
    "ExecuteTime": {
     "end_time": "2025-05-22T09:01:51.268810Z",
     "start_time": "2025-05-22T09:01:51.144951Z"
    }
   },
   "cell_type": "code",
   "source": [
    "stop_words = set(stopwords.words('english'))\n",
    "def clean_text(text):\n",
    "    # lowercase\n",
    "    text = text.lower()\n",
    "    # remove URLs\n",
    "    text = re.sub(r\"http\\S+|www\\S+|https\\S+\", '', text, flags=re.MULTILINE)\n",
    "    # remove punctuation\n",
    "    text = text.translate(str.maketrans('', '', string.punctuation))\n",
    "    # remove numbers\n",
    "    text = re.sub(r'\\d+', '', text)\n",
    "    # remove extra spaces\n",
    "    text = re.sub(r'\\s+', ' ', text).strip()\n",
    "    return text\n",
    "\n",
    "df['cleaned_text']  = Parallel(n_jobs=-1)(delayed(clean_text)(text) for text in df['Corrected'])"
   ],
   "id": "c7a3c09f64e39902",
   "outputs": [],
   "execution_count": 59
  },
  {
   "metadata": {
    "ExecuteTime": {
     "end_time": "2025-05-22T09:01:51.284986Z",
     "start_time": "2025-05-22T09:01:51.279193Z"
    }
   },
   "cell_type": "code",
   "source": "df",
   "id": "3cece09edaad9598",
   "outputs": [
    {
     "data": {
      "text/plain": [
       "                                                Comment  Rating  \\\n",
       "0     #fingerprint #Pregnancy Test https://goo.gl/h1...       0   \n",
       "1     Finally a transparant silicon case ^^ Thanks t...       0   \n",
       "2     We love this! Would you go? #talk #makememorie...       0   \n",
       "3     I'm wired I know I'm George I was made that wa...       0   \n",
       "4     What amazing service! Apple won't even talk to...       1   \n",
       "...                                                 ...     ...   \n",
       "7698  Live out loud #lol #liveoutloud #selfie #smile...       0   \n",
       "7699  We would like to wish you an amazing day! Make...       0   \n",
       "7700  Helping my lovely 90 year old neighbor with he...       0   \n",
       "7701  Finally got my #smart #pocket #wifi stay conne...       0   \n",
       "7702  Apple Barcelona!!! #Apple #Store #BCN #Barcelo...       0   \n",
       "\n",
       "                                              Corrected  \\\n",
       "0     fingerprint pregnancy test https goo gl h1mfqv...   \n",
       "1     finally a transparant silicon case thanks to m...   \n",
       "2     we love this would you go talk makememories un...   \n",
       "3     i'm wired i know i'm george i was made that wa...   \n",
       "4     what amazing service apple won't even talk to ...   \n",
       "...                                                 ...   \n",
       "7698  live out loud lol liveoutloud selfie smile son...   \n",
       "7699  we would like to wish you an amazing day make ...   \n",
       "7700  helping my lovely 90 year old neighbor with he...   \n",
       "7701  finally got my smart pocket wifi stay connecte...   \n",
       "7702  apple barcelona apple store bcn barcelona trav...   \n",
       "\n",
       "                                           cleaned_text  \n",
       "0     fingerprint pregnancy test goo gl hmfqv androi...  \n",
       "1     finally a transparant silicon case thanks to m...  \n",
       "2     we love this would you go talk makememories un...  \n",
       "3     im wired i know im george i was made that way ...  \n",
       "4     what amazing service apple wont even talk to m...  \n",
       "...                                                 ...  \n",
       "7698  live out loud lol liveoutloud selfie smile son...  \n",
       "7699  we would like to wish you an amazing day make ...  \n",
       "7700  helping my lovely year old neighbor with her i...  \n",
       "7701  finally got my smart pocket wifi stay connecte...  \n",
       "7702  apple barcelona apple store bcn barcelona trav...  \n",
       "\n",
       "[7703 rows x 4 columns]"
      ],
      "text/html": [
       "<div>\n",
       "<style scoped>\n",
       "    .dataframe tbody tr th:only-of-type {\n",
       "        vertical-align: middle;\n",
       "    }\n",
       "\n",
       "    .dataframe tbody tr th {\n",
       "        vertical-align: top;\n",
       "    }\n",
       "\n",
       "    .dataframe thead th {\n",
       "        text-align: right;\n",
       "    }\n",
       "</style>\n",
       "<table border=\"1\" class=\"dataframe\">\n",
       "  <thead>\n",
       "    <tr style=\"text-align: right;\">\n",
       "      <th></th>\n",
       "      <th>Comment</th>\n",
       "      <th>Rating</th>\n",
       "      <th>Corrected</th>\n",
       "      <th>cleaned_text</th>\n",
       "    </tr>\n",
       "  </thead>\n",
       "  <tbody>\n",
       "    <tr>\n",
       "      <th>0</th>\n",
       "      <td>#fingerprint #Pregnancy Test https://goo.gl/h1...</td>\n",
       "      <td>0</td>\n",
       "      <td>fingerprint pregnancy test https goo gl h1mfqv...</td>\n",
       "      <td>fingerprint pregnancy test goo gl hmfqv androi...</td>\n",
       "    </tr>\n",
       "    <tr>\n",
       "      <th>1</th>\n",
       "      <td>Finally a transparant silicon case ^^ Thanks t...</td>\n",
       "      <td>0</td>\n",
       "      <td>finally a transparant silicon case thanks to m...</td>\n",
       "      <td>finally a transparant silicon case thanks to m...</td>\n",
       "    </tr>\n",
       "    <tr>\n",
       "      <th>2</th>\n",
       "      <td>We love this! Would you go? #talk #makememorie...</td>\n",
       "      <td>0</td>\n",
       "      <td>we love this would you go talk makememories un...</td>\n",
       "      <td>we love this would you go talk makememories un...</td>\n",
       "    </tr>\n",
       "    <tr>\n",
       "      <th>3</th>\n",
       "      <td>I'm wired I know I'm George I was made that wa...</td>\n",
       "      <td>0</td>\n",
       "      <td>i'm wired i know i'm george i was made that wa...</td>\n",
       "      <td>im wired i know im george i was made that way ...</td>\n",
       "    </tr>\n",
       "    <tr>\n",
       "      <th>4</th>\n",
       "      <td>What amazing service! Apple won't even talk to...</td>\n",
       "      <td>1</td>\n",
       "      <td>what amazing service apple won't even talk to ...</td>\n",
       "      <td>what amazing service apple wont even talk to m...</td>\n",
       "    </tr>\n",
       "    <tr>\n",
       "      <th>...</th>\n",
       "      <td>...</td>\n",
       "      <td>...</td>\n",
       "      <td>...</td>\n",
       "      <td>...</td>\n",
       "    </tr>\n",
       "    <tr>\n",
       "      <th>7698</th>\n",
       "      <td>Live out loud #lol #liveoutloud #selfie #smile...</td>\n",
       "      <td>0</td>\n",
       "      <td>live out loud lol liveoutloud selfie smile son...</td>\n",
       "      <td>live out loud lol liveoutloud selfie smile son...</td>\n",
       "    </tr>\n",
       "    <tr>\n",
       "      <th>7699</th>\n",
       "      <td>We would like to wish you an amazing day! Make...</td>\n",
       "      <td>0</td>\n",
       "      <td>we would like to wish you an amazing day make ...</td>\n",
       "      <td>we would like to wish you an amazing day make ...</td>\n",
       "    </tr>\n",
       "    <tr>\n",
       "      <th>7700</th>\n",
       "      <td>Helping my lovely 90 year old neighbor with he...</td>\n",
       "      <td>0</td>\n",
       "      <td>helping my lovely 90 year old neighbor with he...</td>\n",
       "      <td>helping my lovely year old neighbor with her i...</td>\n",
       "    </tr>\n",
       "    <tr>\n",
       "      <th>7701</th>\n",
       "      <td>Finally got my #smart #pocket #wifi stay conne...</td>\n",
       "      <td>0</td>\n",
       "      <td>finally got my smart pocket wifi stay connecte...</td>\n",
       "      <td>finally got my smart pocket wifi stay connecte...</td>\n",
       "    </tr>\n",
       "    <tr>\n",
       "      <th>7702</th>\n",
       "      <td>Apple Barcelona!!! #Apple #Store #BCN #Barcelo...</td>\n",
       "      <td>0</td>\n",
       "      <td>apple barcelona apple store bcn barcelona trav...</td>\n",
       "      <td>apple barcelona apple store bcn barcelona trav...</td>\n",
       "    </tr>\n",
       "  </tbody>\n",
       "</table>\n",
       "<p>7703 rows × 4 columns</p>\n",
       "</div>"
      ]
     },
     "execution_count": 60,
     "metadata": {},
     "output_type": "execute_result"
    }
   ],
   "execution_count": 60
  },
  {
   "metadata": {},
   "cell_type": "markdown",
   "source": [
    "# using lemmatize text\n",
    "<p>for more accuracy we use lemmatize text instead of stemming</p>\n",
    "<p>nlp.pipe(n_process=…)is\tDesigned for spaCy for safe parallelism and it  keeps order\tOnly works with spaCy</p>"
   ],
   "id": "489ca284954f20ed"
  },
  {
   "metadata": {
    "ExecuteTime": {
     "end_time": "2025-05-22T09:02:54.917943Z",
     "start_time": "2025-05-22T09:02:49.543248Z"
    }
   },
   "cell_type": "code",
   "source": [
    "nlp = spacy.load(\"en_core_web_sm\")\n",
    "\n",
    "def lemmatize_doc(doc):\n",
    "    return ' '.join([\n",
    "        token.lemma_\n",
    "        for token in doc\n",
    "        if token.is_alpha and not token.is_stop\n",
    "    ])\n",
    "\n",
    "# Use nlp.pipe to process docs in parallel\n",
    "docs = nlp.pipe(df['cleaned_text'], n_process=-1)\n",
    "\n",
    "# Apply lemmatization\n",
    "df['lemmatized_text'] = [lemmatize_doc(doc) for doc in docs]\n"
   ],
   "id": "d27d73cdea20f73e",
   "outputs": [],
   "execution_count": 62
  },
  {
   "metadata": {
    "ExecuteTime": {
     "end_time": "2025-05-22T09:02:59.511926Z",
     "start_time": "2025-05-22T09:02:59.470113Z"
    }
   },
   "cell_type": "code",
   "source": "df.to_csv(\"../artifacts/sample_checked.csv\", index=True)",
   "id": "91f9f5fb63c992a3",
   "outputs": [],
   "execution_count": 63
  },
  {
   "metadata": {
    "ExecuteTime": {
     "end_time": "2025-05-22T09:03:00.071109Z",
     "start_time": "2025-05-22T09:03:00.064344Z"
    }
   },
   "cell_type": "code",
   "source": "df",
   "id": "fc1a3da3eaf8a598",
   "outputs": [
    {
     "data": {
      "text/plain": [
       "                                                Comment  Rating  \\\n",
       "0     #fingerprint #Pregnancy Test https://goo.gl/h1...       0   \n",
       "1     Finally a transparant silicon case ^^ Thanks t...       0   \n",
       "2     We love this! Would you go? #talk #makememorie...       0   \n",
       "3     I'm wired I know I'm George I was made that wa...       0   \n",
       "4     What amazing service! Apple won't even talk to...       1   \n",
       "...                                                 ...     ...   \n",
       "7698  Live out loud #lol #liveoutloud #selfie #smile...       0   \n",
       "7699  We would like to wish you an amazing day! Make...       0   \n",
       "7700  Helping my lovely 90 year old neighbor with he...       0   \n",
       "7701  Finally got my #smart #pocket #wifi stay conne...       0   \n",
       "7702  Apple Barcelona!!! #Apple #Store #BCN #Barcelo...       0   \n",
       "\n",
       "                                              Corrected  \\\n",
       "0     fingerprint pregnancy test https goo gl h1mfqv...   \n",
       "1     finally a transparant silicon case thanks to m...   \n",
       "2     we love this would you go talk makememories un...   \n",
       "3     i'm wired i know i'm george i was made that wa...   \n",
       "4     what amazing service apple won't even talk to ...   \n",
       "...                                                 ...   \n",
       "7698  live out loud lol liveoutloud selfie smile son...   \n",
       "7699  we would like to wish you an amazing day make ...   \n",
       "7700  helping my lovely 90 year old neighbor with he...   \n",
       "7701  finally got my smart pocket wifi stay connecte...   \n",
       "7702  apple barcelona apple store bcn barcelona trav...   \n",
       "\n",
       "                                           cleaned_text  \\\n",
       "0     fingerprint pregnancy test goo gl hmfqv androi...   \n",
       "1     finally a transparant silicon case thanks to m...   \n",
       "2     we love this would you go talk makememories un...   \n",
       "3     im wired i know im george i was made that way ...   \n",
       "4     what amazing service apple wont even talk to m...   \n",
       "...                                                 ...   \n",
       "7698  live out loud lol liveoutloud selfie smile son...   \n",
       "7699  we would like to wish you an amazing day make ...   \n",
       "7700  helping my lovely year old neighbor with her i...   \n",
       "7701  finally got my smart pocket wifi stay connecte...   \n",
       "7702  apple barcelona apple store bcn barcelona trav...   \n",
       "\n",
       "                                        lemmatized_text  \n",
       "0     fingerprint pregnancy test goo gl hmfqv androi...  \n",
       "1     finally transparant silicon case thank uncle y...  \n",
       "2     love talk makememorie unplug relax iphone smar...  \n",
       "3     m wire know m george way iphone cute daventry ...  \n",
       "4     amazing service apple will not talk question p...  \n",
       "...                                                 ...  \n",
       "7698  live loud lol liveoutloud selfie smile sony mu...  \n",
       "7699  like wish amazing day minute count tls today i...  \n",
       "7700  help lovely year old neighbor ipad morning rea...  \n",
       "7701  finally get smart pocket wifi stay connect any...  \n",
       "7702  apple barcelona apple store bcn barcelona trav...  \n",
       "\n",
       "[7703 rows x 5 columns]"
      ],
      "text/html": [
       "<div>\n",
       "<style scoped>\n",
       "    .dataframe tbody tr th:only-of-type {\n",
       "        vertical-align: middle;\n",
       "    }\n",
       "\n",
       "    .dataframe tbody tr th {\n",
       "        vertical-align: top;\n",
       "    }\n",
       "\n",
       "    .dataframe thead th {\n",
       "        text-align: right;\n",
       "    }\n",
       "</style>\n",
       "<table border=\"1\" class=\"dataframe\">\n",
       "  <thead>\n",
       "    <tr style=\"text-align: right;\">\n",
       "      <th></th>\n",
       "      <th>Comment</th>\n",
       "      <th>Rating</th>\n",
       "      <th>Corrected</th>\n",
       "      <th>cleaned_text</th>\n",
       "      <th>lemmatized_text</th>\n",
       "    </tr>\n",
       "  </thead>\n",
       "  <tbody>\n",
       "    <tr>\n",
       "      <th>0</th>\n",
       "      <td>#fingerprint #Pregnancy Test https://goo.gl/h1...</td>\n",
       "      <td>0</td>\n",
       "      <td>fingerprint pregnancy test https goo gl h1mfqv...</td>\n",
       "      <td>fingerprint pregnancy test goo gl hmfqv androi...</td>\n",
       "      <td>fingerprint pregnancy test goo gl hmfqv androi...</td>\n",
       "    </tr>\n",
       "    <tr>\n",
       "      <th>1</th>\n",
       "      <td>Finally a transparant silicon case ^^ Thanks t...</td>\n",
       "      <td>0</td>\n",
       "      <td>finally a transparant silicon case thanks to m...</td>\n",
       "      <td>finally a transparant silicon case thanks to m...</td>\n",
       "      <td>finally transparant silicon case thank uncle y...</td>\n",
       "    </tr>\n",
       "    <tr>\n",
       "      <th>2</th>\n",
       "      <td>We love this! Would you go? #talk #makememorie...</td>\n",
       "      <td>0</td>\n",
       "      <td>we love this would you go talk makememories un...</td>\n",
       "      <td>we love this would you go talk makememories un...</td>\n",
       "      <td>love talk makememorie unplug relax iphone smar...</td>\n",
       "    </tr>\n",
       "    <tr>\n",
       "      <th>3</th>\n",
       "      <td>I'm wired I know I'm George I was made that wa...</td>\n",
       "      <td>0</td>\n",
       "      <td>i'm wired i know i'm george i was made that wa...</td>\n",
       "      <td>im wired i know im george i was made that way ...</td>\n",
       "      <td>m wire know m george way iphone cute daventry ...</td>\n",
       "    </tr>\n",
       "    <tr>\n",
       "      <th>4</th>\n",
       "      <td>What amazing service! Apple won't even talk to...</td>\n",
       "      <td>1</td>\n",
       "      <td>what amazing service apple won't even talk to ...</td>\n",
       "      <td>what amazing service apple wont even talk to m...</td>\n",
       "      <td>amazing service apple will not talk question p...</td>\n",
       "    </tr>\n",
       "    <tr>\n",
       "      <th>...</th>\n",
       "      <td>...</td>\n",
       "      <td>...</td>\n",
       "      <td>...</td>\n",
       "      <td>...</td>\n",
       "      <td>...</td>\n",
       "    </tr>\n",
       "    <tr>\n",
       "      <th>7698</th>\n",
       "      <td>Live out loud #lol #liveoutloud #selfie #smile...</td>\n",
       "      <td>0</td>\n",
       "      <td>live out loud lol liveoutloud selfie smile son...</td>\n",
       "      <td>live out loud lol liveoutloud selfie smile son...</td>\n",
       "      <td>live loud lol liveoutloud selfie smile sony mu...</td>\n",
       "    </tr>\n",
       "    <tr>\n",
       "      <th>7699</th>\n",
       "      <td>We would like to wish you an amazing day! Make...</td>\n",
       "      <td>0</td>\n",
       "      <td>we would like to wish you an amazing day make ...</td>\n",
       "      <td>we would like to wish you an amazing day make ...</td>\n",
       "      <td>like wish amazing day minute count tls today i...</td>\n",
       "    </tr>\n",
       "    <tr>\n",
       "      <th>7700</th>\n",
       "      <td>Helping my lovely 90 year old neighbor with he...</td>\n",
       "      <td>0</td>\n",
       "      <td>helping my lovely 90 year old neighbor with he...</td>\n",
       "      <td>helping my lovely year old neighbor with her i...</td>\n",
       "      <td>help lovely year old neighbor ipad morning rea...</td>\n",
       "    </tr>\n",
       "    <tr>\n",
       "      <th>7701</th>\n",
       "      <td>Finally got my #smart #pocket #wifi stay conne...</td>\n",
       "      <td>0</td>\n",
       "      <td>finally got my smart pocket wifi stay connecte...</td>\n",
       "      <td>finally got my smart pocket wifi stay connecte...</td>\n",
       "      <td>finally get smart pocket wifi stay connect any...</td>\n",
       "    </tr>\n",
       "    <tr>\n",
       "      <th>7702</th>\n",
       "      <td>Apple Barcelona!!! #Apple #Store #BCN #Barcelo...</td>\n",
       "      <td>0</td>\n",
       "      <td>apple barcelona apple store bcn barcelona trav...</td>\n",
       "      <td>apple barcelona apple store bcn barcelona trav...</td>\n",
       "      <td>apple barcelona apple store bcn barcelona trav...</td>\n",
       "    </tr>\n",
       "  </tbody>\n",
       "</table>\n",
       "<p>7703 rows × 5 columns</p>\n",
       "</div>"
      ]
     },
     "execution_count": 64,
     "metadata": {},
     "output_type": "execute_result"
    }
   ],
   "execution_count": 64
  },
  {
   "metadata": {
    "ExecuteTime": {
     "end_time": "2025-05-22T09:03:00.525441Z",
     "start_time": "2025-05-22T09:03:00.523609Z"
    }
   },
   "cell_type": "code",
   "source": "",
   "id": "c5051ad3647fb93a",
   "outputs": [],
   "execution_count": null
  },
  {
   "metadata": {},
   "cell_type": "code",
   "outputs": [],
   "execution_count": null,
   "source": "",
   "id": "d46e3b96211ac39b"
  }
 ],
 "metadata": {
  "kernelspec": {
   "display_name": "Python 3",
   "language": "python",
   "name": "python3"
  },
  "language_info": {
   "codemirror_mode": {
    "name": "ipython",
    "version": 2
   },
   "file_extension": ".py",
   "mimetype": "text/x-python",
   "name": "python",
   "nbconvert_exporter": "python",
   "pygments_lexer": "ipython2",
   "version": "2.7.6"
  }
 },
 "nbformat": 4,
 "nbformat_minor": 5
}
