{
 "cells": [
  {
   "cell_type": "code",
   "id": "initial_id",
   "metadata": {
    "collapsed": true,
    "ExecuteTime": {
     "end_time": "2025-05-22T13:48:33.040704Z",
     "start_time": "2025-05-22T13:48:32.655022Z"
    }
   },
   "source": [
    "import pandas as pd\n",
    "import numpy as np\n",
    "import os"
   ],
   "outputs": [],
   "execution_count": 1
  },
  {
   "metadata": {
    "ExecuteTime": {
     "end_time": "2025-05-22T09:36:18.322395Z",
     "start_time": "2025-05-22T09:36:18.283708Z"
    }
   },
   "cell_type": "code",
   "source": "df= pd.read_csv('../artifacts/sample_checked.csv')",
   "id": "ab49a8de249d2d23",
   "outputs": [],
   "execution_count": 2
  },
  {
   "metadata": {
    "ExecuteTime": {
     "end_time": "2025-05-22T09:36:18.344540Z",
     "start_time": "2025-05-22T09:36:18.337051Z"
    }
   },
   "cell_type": "code",
   "source": "df.head()",
   "id": "42502427360d07cd",
   "outputs": [
    {
     "data": {
      "text/plain": [
       "   Unnamed: 0                                            Comment  Rating  \\\n",
       "0           0  #fingerprint #Pregnancy Test https://goo.gl/h1...       0   \n",
       "1           1  Finally a transparant silicon case ^^ Thanks t...       0   \n",
       "2           2  We love this! Would you go? #talk #makememorie...       0   \n",
       "3           3  I'm wired I know I'm George I was made that wa...       0   \n",
       "4           4  What amazing service! Apple won't even talk to...       1   \n",
       "\n",
       "                                           Corrected  \\\n",
       "0  fingerprint pregnancy test https goo gl h1mfqv...   \n",
       "1  finally a transparant silicon case thanks to m...   \n",
       "2  we love this would you go talk makememories un...   \n",
       "3  i'm wired i know i'm george i was made that wa...   \n",
       "4  what amazing service apple won't even talk to ...   \n",
       "\n",
       "                                        cleaned_text  \\\n",
       "0  fingerprint pregnancy test goo gl hmfqv androi...   \n",
       "1  finally a transparant silicon case thanks to m...   \n",
       "2  we love this would you go talk makememories un...   \n",
       "3  im wired i know im george i was made that way ...   \n",
       "4  what amazing service apple wont even talk to m...   \n",
       "\n",
       "                                     lemmatized_text  \n",
       "0  fingerprint pregnancy test goo gl hmfqv androi...  \n",
       "1  finally transparant silicon case thank uncle y...  \n",
       "2  love talk makememorie unplug relax iphone smar...  \n",
       "3  m wire know m george way iphone cute daventry ...  \n",
       "4  amazing service apple will not talk question p...  "
      ],
      "text/html": [
       "<div>\n",
       "<style scoped>\n",
       "    .dataframe tbody tr th:only-of-type {\n",
       "        vertical-align: middle;\n",
       "    }\n",
       "\n",
       "    .dataframe tbody tr th {\n",
       "        vertical-align: top;\n",
       "    }\n",
       "\n",
       "    .dataframe thead th {\n",
       "        text-align: right;\n",
       "    }\n",
       "</style>\n",
       "<table border=\"1\" class=\"dataframe\">\n",
       "  <thead>\n",
       "    <tr style=\"text-align: right;\">\n",
       "      <th></th>\n",
       "      <th>Unnamed: 0</th>\n",
       "      <th>Comment</th>\n",
       "      <th>Rating</th>\n",
       "      <th>Corrected</th>\n",
       "      <th>cleaned_text</th>\n",
       "      <th>lemmatized_text</th>\n",
       "    </tr>\n",
       "  </thead>\n",
       "  <tbody>\n",
       "    <tr>\n",
       "      <th>0</th>\n",
       "      <td>0</td>\n",
       "      <td>#fingerprint #Pregnancy Test https://goo.gl/h1...</td>\n",
       "      <td>0</td>\n",
       "      <td>fingerprint pregnancy test https goo gl h1mfqv...</td>\n",
       "      <td>fingerprint pregnancy test goo gl hmfqv androi...</td>\n",
       "      <td>fingerprint pregnancy test goo gl hmfqv androi...</td>\n",
       "    </tr>\n",
       "    <tr>\n",
       "      <th>1</th>\n",
       "      <td>1</td>\n",
       "      <td>Finally a transparant silicon case ^^ Thanks t...</td>\n",
       "      <td>0</td>\n",
       "      <td>finally a transparant silicon case thanks to m...</td>\n",
       "      <td>finally a transparant silicon case thanks to m...</td>\n",
       "      <td>finally transparant silicon case thank uncle y...</td>\n",
       "    </tr>\n",
       "    <tr>\n",
       "      <th>2</th>\n",
       "      <td>2</td>\n",
       "      <td>We love this! Would you go? #talk #makememorie...</td>\n",
       "      <td>0</td>\n",
       "      <td>we love this would you go talk makememories un...</td>\n",
       "      <td>we love this would you go talk makememories un...</td>\n",
       "      <td>love talk makememorie unplug relax iphone smar...</td>\n",
       "    </tr>\n",
       "    <tr>\n",
       "      <th>3</th>\n",
       "      <td>3</td>\n",
       "      <td>I'm wired I know I'm George I was made that wa...</td>\n",
       "      <td>0</td>\n",
       "      <td>i'm wired i know i'm george i was made that wa...</td>\n",
       "      <td>im wired i know im george i was made that way ...</td>\n",
       "      <td>m wire know m george way iphone cute daventry ...</td>\n",
       "    </tr>\n",
       "    <tr>\n",
       "      <th>4</th>\n",
       "      <td>4</td>\n",
       "      <td>What amazing service! Apple won't even talk to...</td>\n",
       "      <td>1</td>\n",
       "      <td>what amazing service apple won't even talk to ...</td>\n",
       "      <td>what amazing service apple wont even talk to m...</td>\n",
       "      <td>amazing service apple will not talk question p...</td>\n",
       "    </tr>\n",
       "  </tbody>\n",
       "</table>\n",
       "</div>"
      ]
     },
     "execution_count": 3,
     "metadata": {},
     "output_type": "execute_result"
    }
   ],
   "execution_count": 3
  },
  {
   "metadata": {
    "ExecuteTime": {
     "end_time": "2025-05-22T09:36:18.415494Z",
     "start_time": "2025-05-22T09:36:18.410833Z"
    }
   },
   "cell_type": "code",
   "source": "df = df[[\"lemmatized_text\",\"Rating\"]]",
   "id": "f5b152fade8c60ea",
   "outputs": [],
   "execution_count": 4
  },
  {
   "metadata": {
    "ExecuteTime": {
     "end_time": "2025-05-22T09:36:18.511482Z",
     "start_time": "2025-05-22T09:36:18.507978Z"
    }
   },
   "cell_type": "code",
   "source": "df.head()",
   "id": "7ef14596c0d98264",
   "outputs": [
    {
     "data": {
      "text/plain": [
       "                                     lemmatized_text  Rating\n",
       "0  fingerprint pregnancy test goo gl hmfqv androi...       0\n",
       "1  finally transparant silicon case thank uncle y...       0\n",
       "2  love talk makememorie unplug relax iphone smar...       0\n",
       "3  m wire know m george way iphone cute daventry ...       0\n",
       "4  amazing service apple will not talk question p...       1"
      ],
      "text/html": [
       "<div>\n",
       "<style scoped>\n",
       "    .dataframe tbody tr th:only-of-type {\n",
       "        vertical-align: middle;\n",
       "    }\n",
       "\n",
       "    .dataframe tbody tr th {\n",
       "        vertical-align: top;\n",
       "    }\n",
       "\n",
       "    .dataframe thead th {\n",
       "        text-align: right;\n",
       "    }\n",
       "</style>\n",
       "<table border=\"1\" class=\"dataframe\">\n",
       "  <thead>\n",
       "    <tr style=\"text-align: right;\">\n",
       "      <th></th>\n",
       "      <th>lemmatized_text</th>\n",
       "      <th>Rating</th>\n",
       "    </tr>\n",
       "  </thead>\n",
       "  <tbody>\n",
       "    <tr>\n",
       "      <th>0</th>\n",
       "      <td>fingerprint pregnancy test goo gl hmfqv androi...</td>\n",
       "      <td>0</td>\n",
       "    </tr>\n",
       "    <tr>\n",
       "      <th>1</th>\n",
       "      <td>finally transparant silicon case thank uncle y...</td>\n",
       "      <td>0</td>\n",
       "    </tr>\n",
       "    <tr>\n",
       "      <th>2</th>\n",
       "      <td>love talk makememorie unplug relax iphone smar...</td>\n",
       "      <td>0</td>\n",
       "    </tr>\n",
       "    <tr>\n",
       "      <th>3</th>\n",
       "      <td>m wire know m george way iphone cute daventry ...</td>\n",
       "      <td>0</td>\n",
       "    </tr>\n",
       "    <tr>\n",
       "      <th>4</th>\n",
       "      <td>amazing service apple will not talk question p...</td>\n",
       "      <td>1</td>\n",
       "    </tr>\n",
       "  </tbody>\n",
       "</table>\n",
       "</div>"
      ]
     },
     "execution_count": 5,
     "metadata": {},
     "output_type": "execute_result"
    }
   ],
   "execution_count": 5
  },
  {
   "metadata": {
    "ExecuteTime": {
     "end_time": "2025-05-22T09:36:18.549844Z",
     "start_time": "2025-05-22T09:36:18.548111Z"
    }
   },
   "cell_type": "code",
   "source": "from collections import Counter",
   "id": "54eaafdbf0989530",
   "outputs": [],
   "execution_count": 6
  },
  {
   "metadata": {
    "ExecuteTime": {
     "end_time": "2025-05-22T09:36:18.616471Z",
     "start_time": "2025-05-22T09:36:18.614389Z"
    }
   },
   "cell_type": "code",
   "source": "vocab = Counter()",
   "id": "8ed1c59be4da2f5e",
   "outputs": [],
   "execution_count": 7
  },
  {
   "metadata": {
    "ExecuteTime": {
     "end_time": "2025-05-22T09:36:18.674830Z",
     "start_time": "2025-05-22T09:36:18.670317Z"
    }
   },
   "cell_type": "code",
   "source": [
    "# Option 1: Replace non-strings with empty strings\n",
    "df['lemmatized_text'] = df['lemmatized_text'].astype(str)\n",
    "\n",
    "# Option 2: Drop rows where 'lemmatized_text' is NaN\n",
    "df = df.dropna(subset=['lemmatized_text'])\n"
   ],
   "id": "5d7f97e418044cae",
   "outputs": [],
   "execution_count": 8
  },
  {
   "metadata": {},
   "cell_type": "markdown",
   "source": "### create vocabulary",
   "id": "3ce19d23332b469f"
  },
  {
   "metadata": {
    "ExecuteTime": {
     "end_time": "2025-05-22T09:36:18.733736Z",
     "start_time": "2025-05-22T09:36:18.718451Z"
    }
   },
   "cell_type": "code",
   "source": [
    "for sentence in df['lemmatized_text']:\n",
    "    vocab.update(sentence.split())"
   ],
   "id": "9f483e9b4ff20441",
   "outputs": [],
   "execution_count": 9
  },
  {
   "metadata": {
    "ExecuteTime": {
     "end_time": "2025-05-22T09:36:18.775413Z",
     "start_time": "2025-05-22T09:36:18.773012Z"
    }
   },
   "cell_type": "code",
   "source": "len(vocab)",
   "id": "bd4ec4658b6156b4",
   "outputs": [
    {
     "data": {
      "text/plain": [
       "19708"
      ]
     },
     "execution_count": 10,
     "metadata": {},
     "output_type": "execute_result"
    }
   ],
   "execution_count": 10
  },
  {
   "metadata": {
    "ExecuteTime": {
     "end_time": "2025-05-22T09:36:18.834405Z",
     "start_time": "2025-05-22T09:36:18.831158Z"
    }
   },
   "cell_type": "code",
   "source": "df.shape",
   "id": "b065b213fd85a43",
   "outputs": [
    {
     "data": {
      "text/plain": [
       "(7703, 2)"
      ]
     },
     "execution_count": 11,
     "metadata": {},
     "output_type": "execute_result"
    }
   ],
   "execution_count": 11
  },
  {
   "metadata": {},
   "cell_type": "markdown",
   "source": "### trim the vocabulary",
   "id": "e531c1324a02b7b9"
  },
  {
   "metadata": {
    "ExecuteTime": {
     "end_time": "2025-05-22T09:36:18.890931Z",
     "start_time": "2025-05-22T09:36:18.888041Z"
    }
   },
   "cell_type": "code",
   "source": "tokens= [key for key in vocab if vocab[key]>10]",
   "id": "f8131b9470b7c7f5",
   "outputs": [],
   "execution_count": 12
  },
  {
   "metadata": {
    "ExecuteTime": {
     "end_time": "2025-05-22T09:36:18.947347Z",
     "start_time": "2025-05-22T09:36:18.944803Z"
    }
   },
   "cell_type": "code",
   "source": "len(tokens)",
   "id": "ffead6c2f9e4d51d",
   "outputs": [
    {
     "data": {
      "text/plain": [
       "1129"
      ]
     },
     "execution_count": 13,
     "metadata": {},
     "output_type": "execute_result"
    }
   ],
   "execution_count": 13
  },
  {
   "metadata": {
    "ExecuteTime": {
     "end_time": "2025-05-22T09:36:19.007632Z",
     "start_time": "2025-05-22T09:36:19.004397Z"
    }
   },
   "cell_type": "code",
   "source": [
    "def save_vocabulary(lines,filename):\n",
    "    data = '\\n'.join(lines)\n",
    "    with open(filename, 'w', encoding=\"utf-8\") as f:\n",
    "        f.write(data)\n",
    "\n",
    "save_vocabulary(tokens,'../artifacts/vocabulary.txt')"
   ],
   "id": "fe1d10cbb33b8cd0",
   "outputs": [],
   "execution_count": 14
  },
  {
   "metadata": {},
   "cell_type": "markdown",
   "source": "### split the dataset to train and validate",
   "id": "8dee9a5fa69f20e"
  },
  {
   "metadata": {
    "ExecuteTime": {
     "end_time": "2025-05-22T09:36:19.059423Z",
     "start_time": "2025-05-22T09:36:19.057405Z"
    }
   },
   "cell_type": "code",
   "source": [
    "X = df[\"lemmatized_text\"]\n",
    "Y = df[\"Rating\"]"
   ],
   "id": "c1be0e10bc974f37",
   "outputs": [],
   "execution_count": 15
  },
  {
   "metadata": {
    "ExecuteTime": {
     "end_time": "2025-05-22T09:36:19.518349Z",
     "start_time": "2025-05-22T09:36:19.113784Z"
    }
   },
   "cell_type": "code",
   "source": [
    "from sklearn.model_selection import train_test_split\n",
    "\n",
    "X_train, X_test, Y_train, Y_test = train_test_split(X, Y, test_size=0.2, shuffle=True)\n"
   ],
   "id": "22182ce4235e207b",
   "outputs": [],
   "execution_count": 16
  },
  {
   "metadata": {
    "ExecuteTime": {
     "end_time": "2025-05-22T09:36:19.538030Z",
     "start_time": "2025-05-22T09:36:19.535241Z"
    }
   },
   "cell_type": "code",
   "source": "X_test.shape",
   "id": "cd418811276bf779",
   "outputs": [
    {
     "data": {
      "text/plain": [
       "(1541,)"
      ]
     },
     "execution_count": 17,
     "metadata": {},
     "output_type": "execute_result"
    }
   ],
   "execution_count": 17
  },
  {
   "metadata": {
    "ExecuteTime": {
     "end_time": "2025-05-22T09:36:19.594428Z",
     "start_time": "2025-05-22T09:36:19.591671Z"
    }
   },
   "cell_type": "code",
   "source": "X_train.shape",
   "id": "fddcbb72b0ca43d3",
   "outputs": [
    {
     "data": {
      "text/plain": [
       "(6162,)"
      ]
     },
     "execution_count": 18,
     "metadata": {},
     "output_type": "execute_result"
    }
   ],
   "execution_count": 18
  },
  {
   "metadata": {
    "ExecuteTime": {
     "end_time": "2025-05-22T09:36:19.651446Z",
     "start_time": "2025-05-22T09:36:19.649672Z"
    }
   },
   "cell_type": "code",
   "source": "",
   "id": "eda89924bf3e4b72",
   "outputs": [],
   "execution_count": null
  },
  {
   "metadata": {},
   "cell_type": "markdown",
   "source": "### vectorization",
   "id": "e5f32533a6e63744"
  },
  {
   "metadata": {
    "ExecuteTime": {
     "end_time": "2025-05-22T09:36:19.706808Z",
     "start_time": "2025-05-22T09:36:19.704439Z"
    }
   },
   "cell_type": "code",
   "source": [
    "def vectorization(dataset,vocabulary):\n",
    "    vectorized_dataset = []\n",
    "    for sentence in dataset:\n",
    "        sentence_lst = np.zeros(len(vocabulary));\n",
    "        for i in range(len(vocabulary)):\n",
    "            if vocabulary[i] in sentence.split():\n",
    "                sentence_lst[i]= 1\n",
    "\n",
    "        vectorized_dataset.append(sentence_lst)\n",
    "    vectorized_dataset_new = np.asarray(vectorized_dataset,dtype=np.float32)\n",
    "    return vectorized_dataset_new"
   ],
   "id": "421f475f70d377d4",
   "outputs": [],
   "execution_count": 19
  },
  {
   "metadata": {
    "ExecuteTime": {
     "end_time": "2025-05-22T09:36:22.190790Z",
     "start_time": "2025-05-22T09:36:19.760861Z"
    }
   },
   "cell_type": "code",
   "source": "vectorized_x_train = vectorization(X_train,tokens)",
   "id": "7b6e1bf0b804cc48",
   "outputs": [],
   "execution_count": 20
  },
  {
   "metadata": {
    "ExecuteTime": {
     "end_time": "2025-05-22T09:36:22.798143Z",
     "start_time": "2025-05-22T09:36:22.205430Z"
    }
   },
   "cell_type": "code",
   "source": "vectorized_x_test = vectorization(X_test,tokens)",
   "id": "ae50f4b8f4ad1ef6",
   "outputs": [],
   "execution_count": 21
  },
  {
   "metadata": {
    "ExecuteTime": {
     "end_time": "2025-05-22T09:37:16.061554Z",
     "start_time": "2025-05-22T09:37:16.058026Z"
    }
   },
   "cell_type": "code",
   "source": "Y_train.value_counts()",
   "id": "97cdcc4c6a05940b",
   "outputs": [
    {
     "data": {
      "text/plain": [
       "Rating\n",
       "0    4548\n",
       "1    1614\n",
       "Name: count, dtype: int64"
      ]
     },
     "execution_count": 26,
     "metadata": {},
     "output_type": "execute_result"
    }
   ],
   "execution_count": 26
  },
  {
   "metadata": {},
   "cell_type": "code",
   "outputs": [],
   "execution_count": null,
   "source": "",
   "id": "d43c9fa0acf00857"
  }
 ],
 "metadata": {
  "kernelspec": {
   "display_name": "Python 3",
   "language": "python",
   "name": "python3"
  },
  "language_info": {
   "codemirror_mode": {
    "name": "ipython",
    "version": 2
   },
   "file_extension": ".py",
   "mimetype": "text/x-python",
   "name": "python",
   "nbconvert_exporter": "python",
   "pygments_lexer": "ipython2",
   "version": "2.7.6"
  }
 },
 "nbformat": 4,
 "nbformat_minor": 5
}
