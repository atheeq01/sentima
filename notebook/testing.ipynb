{
 "cells": [
  {
   "cell_type": "code",
   "id": "initial_id",
   "metadata": {
    "collapsed": true,
    "ExecuteTime": {
     "end_time": "2025-07-07T14:08:20.659297Z",
     "start_time": "2025-07-07T14:08:17.016464Z"
    }
   },
   "source": [
    "import pandas as pd\n",
    "df = pd.read_csv('../artifacts/cleaned_text_with_spell_checked.csv')"
   ],
   "outputs": [],
   "execution_count": 1
  },
  {
   "metadata": {
    "ExecuteTime": {
     "end_time": "2025-07-07T14:15:33.069196Z",
     "start_time": "2025-07-07T14:15:33.062901Z"
    }
   },
   "cell_type": "code",
   "source": "df.head()",
   "id": "1e419868f8543bfd",
   "outputs": [
    {
     "data": {
      "text/plain": [
       "   Unnamed: 0                                            Comment  Rating  \\\n",
       "0           0  I already have a background in naturopathic me...     4.0   \n",
       "1           1  Very good course and it suits for everyone who...     5.0   \n",
       "2           2  A good introduction to herbal medicine. Not ve...     5.0   \n",
       "3           3  I'm glad to be a part of this course. As it ch...     5.0   \n",
       "4           4  Although I have already learned a lot regardin...     5.0   \n",
       "\n",
       "                                           Corrected  \\\n",
       "0  i already have a background in naturopathic me...   \n",
       "1  very good course and it suits for everyone who...   \n",
       "2  a good introduction to herbal medicine not ver...   \n",
       "3  i'm glad to be a part of this course as it cha...   \n",
       "4  although i have already learned a lot regardin...   \n",
       "\n",
       "                                        cleaned_text  \\\n",
       "0  i already have a background in naturopathic me...   \n",
       "1  very good course and it suits for everyone who...   \n",
       "2  a good introduction to herbal medicine not ver...   \n",
       "3  im glad to be a part of this course as it chan...   \n",
       "4  although i have already learned a lot regardin...   \n",
       "\n",
       "                                     lemmatized_text  Sentiment  \n",
       "0  background naturopathic medicine take course r...        2.0  \n",
       "1  good course suit like herbal medicine instruct...        2.0  \n",
       "2  good introduction herbal medicine useful exper...        2.0  \n",
       "3  m glad course change entire perspective utiliz...        2.0  \n",
       "4  learn lot botanical treatment get precious new...        2.0  "
      ],
      "text/html": [
       "<div>\n",
       "<style scoped>\n",
       "    .dataframe tbody tr th:only-of-type {\n",
       "        vertical-align: middle;\n",
       "    }\n",
       "\n",
       "    .dataframe tbody tr th {\n",
       "        vertical-align: top;\n",
       "    }\n",
       "\n",
       "    .dataframe thead th {\n",
       "        text-align: right;\n",
       "    }\n",
       "</style>\n",
       "<table border=\"1\" class=\"dataframe\">\n",
       "  <thead>\n",
       "    <tr style=\"text-align: right;\">\n",
       "      <th></th>\n",
       "      <th>Unnamed: 0</th>\n",
       "      <th>Comment</th>\n",
       "      <th>Rating</th>\n",
       "      <th>Corrected</th>\n",
       "      <th>cleaned_text</th>\n",
       "      <th>lemmatized_text</th>\n",
       "      <th>Sentiment</th>\n",
       "    </tr>\n",
       "  </thead>\n",
       "  <tbody>\n",
       "    <tr>\n",
       "      <th>0</th>\n",
       "      <td>0</td>\n",
       "      <td>I already have a background in naturopathic me...</td>\n",
       "      <td>4.0</td>\n",
       "      <td>i already have a background in naturopathic me...</td>\n",
       "      <td>i already have a background in naturopathic me...</td>\n",
       "      <td>background naturopathic medicine take course r...</td>\n",
       "      <td>2.0</td>\n",
       "    </tr>\n",
       "    <tr>\n",
       "      <th>1</th>\n",
       "      <td>1</td>\n",
       "      <td>Very good course and it suits for everyone who...</td>\n",
       "      <td>5.0</td>\n",
       "      <td>very good course and it suits for everyone who...</td>\n",
       "      <td>very good course and it suits for everyone who...</td>\n",
       "      <td>good course suit like herbal medicine instruct...</td>\n",
       "      <td>2.0</td>\n",
       "    </tr>\n",
       "    <tr>\n",
       "      <th>2</th>\n",
       "      <td>2</td>\n",
       "      <td>A good introduction to herbal medicine. Not ve...</td>\n",
       "      <td>5.0</td>\n",
       "      <td>a good introduction to herbal medicine not ver...</td>\n",
       "      <td>a good introduction to herbal medicine not ver...</td>\n",
       "      <td>good introduction herbal medicine useful exper...</td>\n",
       "      <td>2.0</td>\n",
       "    </tr>\n",
       "    <tr>\n",
       "      <th>3</th>\n",
       "      <td>3</td>\n",
       "      <td>I'm glad to be a part of this course. As it ch...</td>\n",
       "      <td>5.0</td>\n",
       "      <td>i'm glad to be a part of this course as it cha...</td>\n",
       "      <td>im glad to be a part of this course as it chan...</td>\n",
       "      <td>m glad course change entire perspective utiliz...</td>\n",
       "      <td>2.0</td>\n",
       "    </tr>\n",
       "    <tr>\n",
       "      <th>4</th>\n",
       "      <td>4</td>\n",
       "      <td>Although I have already learned a lot regardin...</td>\n",
       "      <td>5.0</td>\n",
       "      <td>although i have already learned a lot regardin...</td>\n",
       "      <td>although i have already learned a lot regardin...</td>\n",
       "      <td>learn lot botanical treatment get precious new...</td>\n",
       "      <td>2.0</td>\n",
       "    </tr>\n",
       "  </tbody>\n",
       "</table>\n",
       "</div>"
      ]
     },
     "execution_count": 13,
     "metadata": {},
     "output_type": "execute_result"
    }
   ],
   "execution_count": 13
  },
  {
   "metadata": {
    "ExecuteTime": {
     "end_time": "2025-07-07T14:14:52.646050Z",
     "start_time": "2025-07-07T14:14:52.638032Z"
    }
   },
   "cell_type": "code",
   "source": "print(df[\"Rating\"].value_counts())",
   "id": "44598e323378d5fc",
   "outputs": [
    {
     "name": "stdout",
     "output_type": "stream",
     "text": [
      "Rating\n",
      "5.0    580192\n",
      "4.0    108316\n",
      "3.0     30729\n",
      "1.0     14695\n",
      "2.0     13030\n",
      "Name: count, dtype: int64\n"
     ]
    }
   ],
   "execution_count": 9
  },
  {
   "metadata": {
    "ExecuteTime": {
     "end_time": "2025-07-07T14:14:53.187923Z",
     "start_time": "2025-07-07T14:14:53.174408Z"
    }
   },
   "cell_type": "code",
   "source": [
    "df[\"Sentiment\"]=df[\"Rating\"].map({\n",
    "    1:0,\n",
    "    2:0,\n",
    "    3:1,\n",
    "    4:2,\n",
    "    5:2\n",
    "})"
   ],
   "id": "991fa319a94ee03e",
   "outputs": [],
   "execution_count": 10
  },
  {
   "metadata": {
    "ExecuteTime": {
     "end_time": "2025-07-07T14:14:57.041742Z",
     "start_time": "2025-07-07T14:14:57.034005Z"
    }
   },
   "cell_type": "code",
   "source": "print(df[\"Sentiment\"].value_counts())",
   "id": "7bcd628ba3da1dd5",
   "outputs": [
    {
     "name": "stdout",
     "output_type": "stream",
     "text": [
      "Sentiment\n",
      "2.0    688508\n",
      "1.0     30729\n",
      "0.0     27725\n",
      "Name: count, dtype: int64\n"
     ]
    }
   ],
   "execution_count": 11
  },
  {
   "metadata": {
    "ExecuteTime": {
     "end_time": "2025-07-07T14:15:23.988587Z",
     "start_time": "2025-07-07T14:15:23.895358Z"
    }
   },
   "cell_type": "code",
   "source": [
    "df_negative = df[df[\"Sentiment\"] == 0].sample(n=4000, random_state=42)\n",
    "df_neutral  = df[df[\"Sentiment\"] == 1].sample(n=4000, random_state=42)\n",
    "df_positive = df[df[\"Sentiment\"] == 2].sample(n=4000, random_state=42)"
   ],
   "id": "447812c5748acf2f",
   "outputs": [],
   "execution_count": 12
  },
  {
   "metadata": {},
   "cell_type": "code",
   "outputs": [],
   "execution_count": null,
   "source": "",
   "id": "dce44a3c203e1f09"
  }
 ],
 "metadata": {
  "kernelspec": {
   "display_name": "Python 3",
   "language": "python",
   "name": "python3"
  },
  "language_info": {
   "codemirror_mode": {
    "name": "ipython",
    "version": 2
   },
   "file_extension": ".py",
   "mimetype": "text/x-python",
   "name": "python",
   "nbconvert_exporter": "python",
   "pygments_lexer": "ipython2",
   "version": "2.7.6"
  }
 },
 "nbformat": 4,
 "nbformat_minor": 5
}
